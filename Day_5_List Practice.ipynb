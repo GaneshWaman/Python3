{
  "cells": [
    {
      "cell_type": "code",
      "execution_count": null,
      "id": "4c9e6478",
      "metadata": {
        "id": "4c9e6478"
      },
      "outputs": [],
      "source": [
        "l1=list()\n",
        "l2=[]"
      ]
    },
    {
      "cell_type": "code",
      "execution_count": null,
      "id": "1bed589f",
      "metadata": {
        "id": "1bed589f",
        "outputId": "0ebe7710-6440-40a8-ff68-f72269c2cb56"
      },
      "outputs": [
        {
          "name": "stdout",
          "output_type": "stream",
          "text": [
            "[]\n"
          ]
        }
      ],
      "source": [
        "print(l1)"
      ]
    },
    {
      "cell_type": "code",
      "execution_count": null,
      "id": "490463d8",
      "metadata": {
        "id": "490463d8",
        "outputId": "97f3c151-3ee4-4ba6-b85c-ed30a3e49800"
      },
      "outputs": [
        {
          "name": "stdout",
          "output_type": "stream",
          "text": [
            "[]\n"
          ]
        }
      ],
      "source": [
        "print(l2)"
      ]
    },
    {
      "cell_type": "code",
      "execution_count": null,
      "id": "7e2a8bd0",
      "metadata": {
        "id": "7e2a8bd0",
        "outputId": "833a1eea-1dd6-49cb-95f9-0abfb165668e"
      },
      "outputs": [
        {
          "name": "stdout",
          "output_type": "stream",
          "text": [
            "[51, 53, 55, 57, 59, 61, 63, 65, 67, 69, 71, 73, 75, 77, 79, 81, 83, 85, 87, 89, 91, 93, 95, 97, 99]\n",
            "[51, 53, 55, 57, 59, 61, 63, 65, 67, 69, 71, 73, 75, 77, 79, 81, 83, 85, 87, 89, 91, 93, 95, 97, 99]\n"
          ]
        }
      ],
      "source": [
        "# all odd numbers between 50 to 100\n",
        "l2 = list(range(51,100,2))\n",
        "l1 = []\n",
        "for idx in range(51,100,2):\n",
        "    l1.append(idx)\n",
        "#     print(idx)\n",
        "print(l1)\n",
        "print(l2)"
      ]
    },
    {
      "cell_type": "code",
      "execution_count": null,
      "id": "2e41d9cc",
      "metadata": {
        "id": "2e41d9cc",
        "outputId": "2dcd8797-7438-4782-cd53-6bef47d5da00"
      },
      "outputs": [
        {
          "name": "stdout",
          "output_type": "stream",
          "text": [
            "[51, 57, 63, 69, 75, 77, 81, 87, 91, 93, 99]\n"
          ]
        }
      ],
      "source": [
        "l1 = []\n",
        "for idx in range(51,100,2):\n",
        "    if (idx%3 == 0) or (idx%7==0):\n",
        "        l1.append(idx)\n",
        "#     print(idx)\n",
        "print(l1)"
      ]
    },
    {
      "cell_type": "code",
      "execution_count": null,
      "id": "12f9e81f",
      "metadata": {
        "id": "12f9e81f",
        "outputId": "c4ca9cfd-5225-4190-d0ad-6c49312299c6"
      },
      "outputs": [
        {
          "name": "stdout",
          "output_type": "stream",
          "text": [
            "0 51\n",
            "1 57\n",
            "2 63\n",
            "3 69\n",
            "4 75\n",
            "5 77\n",
            "6 81\n",
            "7 87\n",
            "8 91\n",
            "9 93\n",
            "10 99\n"
          ]
        }
      ],
      "source": [
        "for idx,element in enumerate(l1):\n",
        "    print(idx,element)"
      ]
    },
    {
      "cell_type": "code",
      "execution_count": null,
      "id": "5c57dbda",
      "metadata": {
        "id": "5c57dbda",
        "outputId": "05d15740-08c2-488d-b186-631c43571192"
      },
      "outputs": [
        {
          "name": "stdout",
          "output_type": "stream",
          "text": [
            "67\n",
            "89\n"
          ]
        }
      ],
      "source": [
        "# create a list of rollnos of your 5 friends\n",
        "rollnos = [54,67,98,89,77]\n",
        "#print all roll nos which are on even index\n",
        "# print all alternate lements in a list starting from first element\n",
        "for idx, element in enumerate(rollnos):\n",
        "    if idx % 2 ==0:\n",
        "        print(element)"
      ]
    },
    {
      "cell_type": "code",
      "execution_count": null,
      "id": "26548de2",
      "metadata": {
        "id": "26548de2",
        "outputId": "0f82f385-0261-41f5-9a16-01cfa94856f5"
      },
      "outputs": [
        {
          "name": "stdout",
          "output_type": "stream",
          "text": [
            "0\n",
            "1\n",
            "2\n",
            "3\n",
            "4\n"
          ]
        }
      ],
      "source": [
        "for idx in range(5):#[0,1,2,3,4]\n",
        "    print(idx)\n",
        "    idx +=5"
      ]
    },
    {
      "cell_type": "code",
      "execution_count": null,
      "id": "10610245",
      "metadata": {
        "id": "10610245"
      },
      "outputs": [],
      "source": [
        "L1=[5,2,8]\n",
        "L2 = [ element  for  element in L1  if element > 3]"
      ]
    },
    {
      "cell_type": "code",
      "execution_count": null,
      "id": "3923a3e4",
      "metadata": {
        "id": "3923a3e4"
      },
      "outputs": [],
      "source": [
        "l2 = []\n",
        "for element in l1:\n",
        "    if element > 3:\n",
        "        l2.append(element)"
      ]
    },
    {
      "cell_type": "code",
      "execution_count": null,
      "id": "7f70a1a3",
      "metadata": {
        "id": "7f70a1a3"
      },
      "outputs": [],
      "source": [
        "l1=[45,23,11,22,100]\n",
        "squares =[]"
      ]
    },
    {
      "cell_type": "code",
      "execution_count": null,
      "id": "becdc23d",
      "metadata": {
        "id": "becdc23d"
      },
      "outputs": [],
      "source": [
        "for element in l1:\n",
        "    squares.append(element ** 2)"
      ]
    },
    {
      "cell_type": "code",
      "execution_count": null,
      "id": "8202c6b7",
      "metadata": {
        "id": "8202c6b7",
        "outputId": "96bbea62-5d4b-429b-9224-42409fb1ceb5"
      },
      "outputs": [
        {
          "name": "stdout",
          "output_type": "stream",
          "text": [
            "[45, 23, 11, 22, 100]\n",
            "[2025, 529, 121, 484, 10000]\n"
          ]
        }
      ],
      "source": [
        "print(l1)\n",
        "print(squares)"
      ]
    },
    {
      "cell_type": "code",
      "execution_count": null,
      "id": "c894e8ef",
      "metadata": {
        "id": "c894e8ef",
        "outputId": "d4ffa8ae-34ef-4df6-ebcb-0bdd1e340c5e"
      },
      "outputs": [
        {
          "name": "stdout",
          "output_type": "stream",
          "text": [
            "[2025, 529, 121, 484, 10000]\n"
          ]
        }
      ],
      "source": [
        "sq = [ element**2 for element in l1 ]\n",
        "print(sq)"
      ]
    },
    {
      "cell_type": "code",
      "execution_count": null,
      "id": "7be2beae",
      "metadata": {
        "id": "7be2beae",
        "outputId": "47c1017f-1dcd-46ee-e95a-7c2758da2721"
      },
      "outputs": [
        {
          "name": "stdout",
          "output_type": "stream",
          "text": [
            "[40, 1, 40, 2, 40] 5\n",
            "[40, 1, 40, 2, 40, 3] 6\n",
            "[1, 40, 2, 40, 3] 5\n",
            "[1, 2, 40, 3] 4\n"
          ]
        }
      ],
      "source": [
        "l1=[40,1,40,2,40]\n",
        "print(l1,len(l1))\n",
        "l1.append(3)\n",
        "print(l1,len(l1))\n",
        "l1.remove(40)\n",
        "print(l1,len(l1))\n",
        "del l1[1]\n",
        "print(l1,len(l1))"
      ]
    },
    {
      "cell_type": "code",
      "execution_count": null,
      "id": "49d501c3",
      "metadata": {
        "id": "49d501c3",
        "outputId": "ec0293c4-a5e3-4179-fde2-b4814ba70539"
      },
      "outputs": [
        {
          "name": "stdout",
          "output_type": "stream",
          "text": [
            "0 10\n",
            "[20, 30, 40, 50]\n",
            "1 30\n",
            "[20, 40, 50]\n",
            "2 50\n",
            "[20, 40]\n"
          ]
        }
      ],
      "source": [
        "l1=[10,20,30,40,50]\n",
        "for idx,element in enumerate(l1):\n",
        "    print(idx, element)\n",
        "    l1.remove(element)\n",
        "#     del l1[idx]\n",
        "    print(l1)"
      ]
    },
    {
      "cell_type": "markdown",
      "id": "b00d8420",
      "metadata": {
        "id": "b00d8420"
      },
      "source": [
        "# Slicing in Lists"
      ]
    },
    {
      "cell_type": "code",
      "execution_count": null,
      "id": "88e60bc3",
      "metadata": {
        "id": "88e60bc3"
      },
      "outputs": [],
      "source": [
        "l1 = [10,20,30,40,50,60]"
      ]
    },
    {
      "cell_type": "code",
      "execution_count": null,
      "id": "17566389",
      "metadata": {
        "id": "17566389",
        "outputId": "f11959c7-9b03-4638-8cd7-823631d53b93"
      },
      "outputs": [
        {
          "data": {
            "text/plain": [
              "[30, 40]"
            ]
          },
          "execution_count": 34,
          "metadata": {},
          "output_type": "execute_result"
        }
      ],
      "source": [
        "l1[2:4]"
      ]
    },
    {
      "cell_type": "code",
      "execution_count": null,
      "id": "423621c7",
      "metadata": {
        "id": "423621c7",
        "outputId": "cd9fef0b-ceb0-4c70-e2fc-2a6a54ef031c"
      },
      "outputs": [
        {
          "data": {
            "text/plain": [
              "[20, 30, 40, 50]"
            ]
          },
          "execution_count": 35,
          "metadata": {},
          "output_type": "execute_result"
        }
      ],
      "source": [
        "l1[-5:-1]"
      ]
    },
    {
      "cell_type": "code",
      "execution_count": null,
      "id": "0c7d5d4a",
      "metadata": {
        "id": "0c7d5d4a",
        "outputId": "e85ffec8-5b68-4b5b-e836-c9cd6ac9e015"
      },
      "outputs": [
        {
          "data": {
            "text/plain": [
              "[]"
            ]
          },
          "execution_count": 36,
          "metadata": {},
          "output_type": "execute_result"
        }
      ],
      "source": [
        "l1[0:0:1]"
      ]
    },
    {
      "cell_type": "code",
      "execution_count": null,
      "id": "c409a25c",
      "metadata": {
        "id": "c409a25c",
        "outputId": "dc7a9e39-2b0a-4c88-80fb-467905675dc3"
      },
      "outputs": [
        {
          "data": {
            "text/plain": [
              "[]"
            ]
          },
          "execution_count": 37,
          "metadata": {},
          "output_type": "execute_result"
        }
      ],
      "source": [
        "l1[2:2:1]"
      ]
    },
    {
      "cell_type": "code",
      "execution_count": null,
      "id": "773368b2",
      "metadata": {
        "id": "773368b2",
        "outputId": "af2dfd8b-2c59-4e5b-cec1-bea0bd25f3e1"
      },
      "outputs": [
        {
          "data": {
            "text/plain": [
              "[]"
            ]
          },
          "execution_count": 38,
          "metadata": {},
          "output_type": "execute_result"
        }
      ],
      "source": [
        "l1[-1:-1:-1]"
      ]
    },
    {
      "cell_type": "code",
      "execution_count": null,
      "id": "7039346d",
      "metadata": {
        "id": "7039346d",
        "outputId": "fd330966-6a49-47a2-9803-c028a979cd09"
      },
      "outputs": [
        {
          "data": {
            "text/plain": [
              "[]"
            ]
          },
          "execution_count": 39,
          "metadata": {},
          "output_type": "execute_result"
        }
      ],
      "source": [
        "l1[4:1:1]"
      ]
    },
    {
      "cell_type": "code",
      "execution_count": null,
      "id": "46e34bb4",
      "metadata": {
        "id": "46e34bb4",
        "outputId": "f06c9b51-a86d-477a-d17b-069c3ed54f8f"
      },
      "outputs": [
        {
          "data": {
            "text/plain": [
              "[10]"
            ]
          },
          "execution_count": 40,
          "metadata": {},
          "output_type": "execute_result"
        }
      ],
      "source": [
        "l1[::200]"
      ]
    },
    {
      "cell_type": "code",
      "execution_count": null,
      "id": "4e7cb1a9",
      "metadata": {
        "id": "4e7cb1a9",
        "outputId": "8bbc7147-9c08-454f-e8cc-135772a12c86"
      },
      "outputs": [
        {
          "data": {
            "text/plain": [
              "[10, 20, 30, 40, 50, 60]"
            ]
          },
          "execution_count": 41,
          "metadata": {},
          "output_type": "execute_result"
        }
      ],
      "source": [
        "l1[:]"
      ]
    },
    {
      "cell_type": "code",
      "execution_count": null,
      "id": "02c2580a",
      "metadata": {
        "id": "02c2580a",
        "outputId": "3a7c551a-4004-4815-dc80-8f234c3a1610"
      },
      "outputs": [
        {
          "data": {
            "text/plain": [
              "False"
            ]
          },
          "execution_count": 42,
          "metadata": {},
          "output_type": "execute_result"
        }
      ],
      "source": [
        "l1 is l1[:]"
      ]
    },
    {
      "cell_type": "code",
      "execution_count": null,
      "id": "c1b7e43b",
      "metadata": {
        "id": "c1b7e43b",
        "outputId": "9206a1fe-2879-4a03-9685-422f6a68d1c3"
      },
      "outputs": [
        {
          "data": {
            "text/plain": [
              "[60, 50, 40, 30, 20, 10]"
            ]
          },
          "execution_count": 44,
          "metadata": {},
          "output_type": "execute_result"
        }
      ],
      "source": [
        "l1[::-1]"
      ]
    },
    {
      "cell_type": "code",
      "execution_count": null,
      "id": "2af8e78c",
      "metadata": {
        "id": "2af8e78c",
        "outputId": "411cd5c6-f65c-454c-bcd3-9dfc2f6e205e"
      },
      "outputs": [
        {
          "data": {
            "text/plain": [
              "[10, 20, 30, 40, 50, 60]"
            ]
          },
          "execution_count": 45,
          "metadata": {},
          "output_type": "execute_result"
        }
      ],
      "source": [
        "l1"
      ]
    },
    {
      "cell_type": "code",
      "execution_count": null,
      "id": "ed6dd6b7",
      "metadata": {
        "id": "ed6dd6b7",
        "outputId": "6d8d0df7-085a-4683-b4c2-0c6baee26911"
      },
      "outputs": [
        {
          "data": {
            "text/plain": [
              "[30, 60]"
            ]
          },
          "execution_count": 48,
          "metadata": {},
          "output_type": "execute_result"
        }
      ],
      "source": [
        "l1[2::-3]"
      ]
    },
    {
      "cell_type": "markdown",
      "id": "66f03467",
      "metadata": {
        "id": "66f03467"
      },
      "source": [
        "# List within list"
      ]
    },
    {
      "cell_type": "code",
      "execution_count": null,
      "id": "c518ca43",
      "metadata": {
        "id": "c518ca43"
      },
      "outputs": [],
      "source": [
        "l=[[34,12],[123,567,89],[0,[90]],100,900]"
      ]
    },
    {
      "cell_type": "code",
      "execution_count": null,
      "id": "67921b2e",
      "metadata": {
        "id": "67921b2e",
        "outputId": "55f97456-643d-4e48-8441-b90ae3c729b6"
      },
      "outputs": [
        {
          "data": {
            "text/plain": [
              "34"
            ]
          },
          "execution_count": 55,
          "metadata": {},
          "output_type": "execute_result"
        }
      ],
      "source": [
        "l[0][0]"
      ]
    },
    {
      "cell_type": "code",
      "execution_count": null,
      "id": "fb3290ea",
      "metadata": {
        "id": "fb3290ea",
        "outputId": "2cdb446f-508c-424c-b932-1f84b6aa83c3"
      },
      "outputs": [
        {
          "data": {
            "text/plain": [
              "567"
            ]
          },
          "execution_count": 56,
          "metadata": {},
          "output_type": "execute_result"
        }
      ],
      "source": [
        "l[1][1]"
      ]
    },
    {
      "cell_type": "code",
      "execution_count": null,
      "id": "131d85ad",
      "metadata": {
        "id": "131d85ad",
        "outputId": "cfabf94a-4ef4-4380-f788-c99ef9634e9f"
      },
      "outputs": [
        {
          "data": {
            "text/plain": [
              "90"
            ]
          },
          "execution_count": 58,
          "metadata": {},
          "output_type": "execute_result"
        }
      ],
      "source": [
        "l[2][1][0]"
      ]
    },
    {
      "cell_type": "markdown",
      "id": "7980cae1",
      "metadata": {
        "id": "7980cae1"
      },
      "source": [
        "# zip function"
      ]
    },
    {
      "cell_type": "code",
      "execution_count": null,
      "id": "b38880cf",
      "metadata": {
        "id": "b38880cf",
        "outputId": "54fa6be4-cdaf-459f-c9e2-23e3fc3a092d"
      },
      "outputs": [
        {
          "name": "stdout",
          "output_type": "stream",
          "text": [
            "10 67\n",
            "20 78\n",
            "30 89\n"
          ]
        }
      ],
      "source": [
        "l1=[10,20,30]\n",
        "l2=[67,78,89]\n",
        "for e1,e2 in zip(l1,l2):\n",
        "    print(e1,e2)"
      ]
    },
    {
      "cell_type": "code",
      "execution_count": null,
      "id": "ad99ad48",
      "metadata": {
        "id": "ad99ad48"
      },
      "outputs": [],
      "source": []
    }
  ],
  "metadata": {
    "kernelspec": {
      "display_name": "Python 3 (ipykernel)",
      "language": "python",
      "name": "python3"
    },
    "language_info": {
      "codemirror_mode": {
        "name": "ipython",
        "version": 3
      },
      "file_extension": ".py",
      "mimetype": "text/x-python",
      "name": "python",
      "nbconvert_exporter": "python",
      "pygments_lexer": "ipython3",
      "version": "3.11.4"
    },
    "colab": {
      "provenance": []
    }
  },
  "nbformat": 4,
  "nbformat_minor": 5
}