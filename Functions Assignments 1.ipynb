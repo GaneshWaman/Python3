{
 "cells": [
  {
   "cell_type": "markdown",
   "id": "f1798db4",
   "metadata": {},
   "source": [
    "Q1. WA function to take a number as parameter and  print True if given number is even else print False\n"
   ]
  },
  {
   "cell_type": "code",
   "execution_count": 7,
   "id": "44808db4",
   "metadata": {},
   "outputs": [
    {
     "name": "stdout",
     "output_type": "stream",
     "text": [
      "Number is Odd\n"
     ]
    }
   ],
   "source": [
    "def even(n):\n",
    "    if (n%2==0):\n",
    "        print(\"Number is Even\")\n",
    "    else:\n",
    "        print(\"Number is Odd\")\n",
    "        \n",
    "even(33)"
   ]
  },
  {
   "cell_type": "markdown",
   "id": "57d8968e",
   "metadata": {},
   "source": [
    "Q WA function to take list as parameter and print all numbers of given list which are divisible by 11"
   ]
  },
  {
   "cell_type": "code",
   "execution_count": 13,
   "id": "ddab36fd",
   "metadata": {},
   "outputs": [],
   "source": [
    "def div_11(l):\n",
    "    l2=[]\n",
    "    for i in l:\n",
    "        if (i%11==0):\n",
    "            l2.append(i)\n",
    "            \n",
    "    return l2"
   ]
  },
  {
   "cell_type": "code",
   "execution_count": 14,
   "id": "905bff8a",
   "metadata": {},
   "outputs": [
    {
     "data": {
      "text/plain": [
       "[11, 44, 77, 7678, 33]"
      ]
     },
     "execution_count": 14,
     "metadata": {},
     "output_type": "execute_result"
    }
   ],
   "source": [
    "div_11([11,44,77,34,7678,455534,33])"
   ]
  },
  {
   "cell_type": "markdown",
   "id": "b0500406",
   "metadata": {},
   "source": [
    "Q WA function to take string as parameter\n",
    "Check if string is palindrome are not\n",
    "If palindrome return 1\n",
    "if not palindrome return 0\n"
   ]
  },
  {
   "cell_type": "code",
   "execution_count": 15,
   "id": "2c12f3bc",
   "metadata": {},
   "outputs": [],
   "source": [
    "def chk_palindrome(string):\n",
    "    string2=string[::-1]\n",
    "    if string==string2:\n",
    "        print(\"Palindrome\")"
   ]
  },
  {
   "cell_type": "code",
   "execution_count": 17,
   "id": "555c48c5",
   "metadata": {},
   "outputs": [
    {
     "name": "stdout",
     "output_type": "stream",
     "text": [
      "Palindrome\n"
     ]
    }
   ],
   "source": [
    "chk_palindrome('sos')"
   ]
  },
  {
   "cell_type": "markdown",
   "id": "007d8133",
   "metadata": {},
   "source": [
    "Q WA function to check if number is prime or not. Return True if number is prime and false if number not prime.\n"
   ]
  },
  {
   "cell_type": "code",
   "execution_count": 63,
   "id": "55d20bfe",
   "metadata": {},
   "outputs": [],
   "source": [
    "import math\n",
    "def chk_prime(n):\n",
    "    a=int(math.sqrt(n))\n",
    "    count=0\n",
    "    for i in range(2,a+1):\n",
    "        if n%i==0:\n",
    "            print(\"Not a prime number: \")\n",
    "            break\n",
    "        else:\n",
    "            print(\"prime number\")\n",
    "            break\n",
    "        \n"
   ]
  },
  {
   "cell_type": "code",
   "execution_count": 66,
   "id": "0c2e213b",
   "metadata": {},
   "outputs": [
    {
     "name": "stdout",
     "output_type": "stream",
     "text": [
      "prime number\n"
     ]
    }
   ],
   "source": [
    "chk_prime(101)"
   ]
  },
  {
   "cell_type": "markdown",
   "id": "c98ee952",
   "metadata": {},
   "source": [
    "Q WA function to take a string as parameter. Print its alternate characters starting from 2nd character"
   ]
  },
  {
   "cell_type": "code",
   "execution_count": 18,
   "id": "07a33783",
   "metadata": {},
   "outputs": [],
   "source": [
    "def alt_char(string):\n",
    "    print(string[1:len(string):2])"
   ]
  },
  {
   "cell_type": "code",
   "execution_count": 19,
   "id": "5fd4ffeb",
   "metadata": {},
   "outputs": [
    {
     "name": "stdout",
     "output_type": "stream",
     "text": [
      "aeh\n"
     ]
    }
   ],
   "source": [
    "alt_char('Ganesh')"
   ]
  },
  {
   "cell_type": "markdown",
   "id": "2c756028",
   "metadata": {},
   "source": [
    "Q WA function to take dictionary as parameter. Print all keys of the dictionary\n"
   ]
  },
  {
   "cell_type": "code",
   "execution_count": 21,
   "id": "813ba870",
   "metadata": {},
   "outputs": [
    {
     "name": "stdout",
     "output_type": "stream",
     "text": [
      "1\n",
      "2\n",
      "3\n"
     ]
    }
   ],
   "source": [
    "def dic_keys(d1):\n",
    "    for i in d1:\n",
    "        print(i)\n",
    "    #print(list(d1.i()))\n",
    "dic_keys({1:'amrut',2:'ganesh',3:'gaplesh'})    "
   ]
  },
  {
   "cell_type": "markdown",
   "id": "8aa19527",
   "metadata": {},
   "source": [
    "Q WA function to take a dictionary as parameter. Print value of key \"name\" if key \"rollno\" is having value 100.\n"
   ]
  },
  {
   "cell_type": "code",
   "execution_count": 26,
   "id": "14fa3bde",
   "metadata": {},
   "outputs": [
    {
     "name": "stdout",
     "output_type": "stream",
     "text": [
      "Iacsd\n"
     ]
    }
   ],
   "source": [
    "def dic_keys(d1):\n",
    "#    for i in d1:\n",
    "        if d1['roll_no'] == 100:\n",
    "            print(d1['name'])\n",
    "dic_keys({100:'amrut',2:'ganesh',3:'gaplesh', 'name': 'Iacsd', 'roll_no': 100})  "
   ]
  },
  {
   "cell_type": "code",
   "execution_count": 28,
   "id": "cfd713a4",
   "metadata": {},
   "outputs": [
    {
     "name": "stdout",
     "output_type": "stream",
     "text": [
      "36\n"
     ]
    }
   ],
   "source": [
    "def dic_keys(d1):\n",
    "        if d1['item'] == 'milk':\n",
    "            print(d1['price'])\n",
    "            \n",
    "\n",
    "dic = {100:'amrut',2:'ganesh',3:'gaplesh', 'name': 'Iacsd', 'roll_no': 100, 'item': 'milk', \n",
    "         'price': 36}\n",
    "dic_keys(dic)  "
   ]
  },
  {
   "cell_type": "markdown",
   "id": "d3837769",
   "metadata": {},
   "source": [
    "Q WA function to list of strings as parameter and print all strings which have character 's' 2 times"
   ]
  },
  {
   "cell_type": "code",
   "execution_count": 31,
   "id": "95412be7",
   "metadata": {},
   "outputs": [
    {
     "name": "stdout",
     "output_type": "stream",
     "text": [
      "sands\n",
      "shoes\n"
     ]
    }
   ],
   "source": [
    "def count_s2(l):\n",
    "    count=0\n",
    "    for ele in l:\n",
    "        for i in ele:\n",
    "            if (i=='s') or (i=='S'):\n",
    "                count+=1\n",
    "        if count>=2:\n",
    "            print(ele)\n",
    "        count=0\n",
    "\n",
    "lis = ['string', 'sands', 'shadow', 'shoes']\n",
    "count_s2(lis)"
   ]
  },
  {
   "cell_type": "code",
   "execution_count": 32,
   "id": "8d25f7aa",
   "metadata": {},
   "outputs": [
    {
     "name": "stdout",
     "output_type": "stream",
     "text": [
      "sands\n",
      "shoes\n"
     ]
    }
   ],
   "source": [
    "def count_S(l):\n",
    "    count=0\n",
    "    for ele in l:\n",
    "        for i in ele:\n",
    "            if i==\"S\" or i=='s':\n",
    "                count+=1\n",
    "        if count>=2:\n",
    "            print(ele)\n",
    "            \n",
    "lis = ['string', 'sands', 'shadow', 'shoes']\n",
    "count_s2(lis)"
   ]
  },
  {
   "cell_type": "markdown",
   "id": "d7ef1e4a",
   "metadata": {},
   "source": [
    "Q WA function to take list of dictionaries. Print all dictionaries which contain key \"id\"."
   ]
  },
  {
   "cell_type": "code",
   "execution_count": 33,
   "id": "fc6c6580",
   "metadata": {},
   "outputs": [
    {
     "name": "stdout",
     "output_type": "stream",
     "text": [
      "{'id': 1, 'movie': 'Prestige'}\n",
      "{'id': 2, 'movie': 'Interstellar'}\n"
     ]
    }
   ],
   "source": [
    "def check_id(l):\n",
    "    for ele in l:\n",
    "        for i in ele:\n",
    "            if i == 'id':\n",
    "                print(ele)\n",
    "lis = [{'id':1, 'movie': 'Prestige'},\n",
    "       {'name':'Up'},\n",
    "       {'id': 2, 'movie': 'Interstellar'},\n",
    "       {'ids':3},\n",
    "       {'ID':4}]\n",
    "check_id(lis)"
   ]
  }
 ],
 "metadata": {
  "kernelspec": {
   "display_name": "Python 3 (ipykernel)",
   "language": "python",
   "name": "python3"
  },
  "language_info": {
   "codemirror_mode": {
    "name": "ipython",
    "version": 3
   },
   "file_extension": ".py",
   "mimetype": "text/x-python",
   "name": "python",
   "nbconvert_exporter": "python",
   "pygments_lexer": "ipython3",
   "version": "3.11.4"
  }
 },
 "nbformat": 4,
 "nbformat_minor": 5
}
