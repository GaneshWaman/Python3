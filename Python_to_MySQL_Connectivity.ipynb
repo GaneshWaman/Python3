{
 "cells": [
  {
   "cell_type": "code",
   "execution_count": 44,
   "id": "818409af",
   "metadata": {},
   "outputs": [],
   "source": [
    "import mysql.connector"
   ]
  },
  {
   "cell_type": "code",
   "execution_count": 45,
   "id": "05cc29e9",
   "metadata": {},
   "outputs": [],
   "source": [
    "abc = mysql.connector.connect(user = 'root',\n",
    "                             password = 'root123',\n",
    "                             host = '127.0.0.1')"
   ]
  },
  {
   "cell_type": "code",
   "execution_count": 46,
   "id": "6a377d59",
   "metadata": {},
   "outputs": [],
   "source": [
    "cur = abc.cursor()\n",
    "cur.execute(\"\"\"create database trial1;\"\"\")"
   ]
  },
  {
   "cell_type": "code",
   "execution_count": 47,
   "id": "1b8247be",
   "metadata": {},
   "outputs": [],
   "source": [
    "\n",
    "abc.close()"
   ]
  },
  {
   "cell_type": "code",
   "execution_count": 48,
   "id": "a08ebd9f",
   "metadata": {},
   "outputs": [],
   "source": [
    "abc = mysql.connector.connect(user = 'root',\n",
    "                             password = 'root123',\n",
    "                             host = '127.0.0.1',\n",
    "                             database = 'trial1')"
   ]
  },
  {
   "cell_type": "code",
   "execution_count": 49,
   "id": "724d068a",
   "metadata": {},
   "outputs": [],
   "source": [
    "cur = abc.cursor()\n",
    "cur.execute(\"\"\"create table student(name varchar(20), rollno int, marks int)\"\"\")\n",
    "abc.commit()\n",
    "abc.close()"
   ]
  },
  {
   "cell_type": "code",
   "execution_count": 50,
   "id": "92f2270a",
   "metadata": {},
   "outputs": [],
   "source": [
    "abc = mysql.connector.connect(user= 'root',\n",
    "                             password = 'root123',\n",
    "                             host = '127.0.0.1',\n",
    "                             database = 'trial1')\n",
    "\n",
    "cur = abc.cursor()\n",
    "cur.execute(\"\"\"insert into student values('Ganesh',16,90)\"\"\")\n",
    "abc.commit()\n",
    "abc.close()"
   ]
  },
  {
   "cell_type": "code",
   "execution_count": 51,
   "id": "710ab443",
   "metadata": {},
   "outputs": [],
   "source": [
    "records = [['Amrut',6,90],\n",
    "          ['Kalpesh',22,90],\n",
    "          ['Vikram',13,90]]"
   ]
  },
  {
   "cell_type": "code",
   "execution_count": 52,
   "id": "19fa037c",
   "metadata": {},
   "outputs": [],
   "source": [
    "abc = mysql.connector.connect(user= 'root',\n",
    "                             password = 'root123',\n",
    "                             host = '127.0.0.1',\n",
    "                             database = 'trial1')\n",
    "\n",
    "cur = abc.cursor()\n",
    "\n",
    "for name, rollno,marks in records:\n",
    "    query = \"Insert into student values(\"+repr(name)+\",\"+repr(rollno)+\",\"+str(marks)+\");\"\n",
    "    cur.execute(query)\n",
    "\n",
    "abc.commit()\n",
    "abc.close()"
   ]
  },
  {
   "cell_type": "code",
   "execution_count": null,
   "id": "93ec6d1b",
   "metadata": {},
   "outputs": [],
   "source": []
  }
 ],
 "metadata": {
  "kernelspec": {
   "display_name": "Python 3 (ipykernel)",
   "language": "python",
   "name": "python3"
  },
  "language_info": {
   "codemirror_mode": {
    "name": "ipython",
    "version": 3
   },
   "file_extension": ".py",
   "mimetype": "text/x-python",
   "name": "python",
   "nbconvert_exporter": "python",
   "pygments_lexer": "ipython3",
   "version": "3.11.4"
  }
 },
 "nbformat": 4,
 "nbformat_minor": 5
}
