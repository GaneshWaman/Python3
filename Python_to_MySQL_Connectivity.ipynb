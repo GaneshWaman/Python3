{
 "cells": [
  {
   "cell_type": "code",
   "execution_count": 11,
   "id": "bb190c5f",
   "metadata": {},
   "outputs": [],
   "source": [
    "import mysql.connector"
   ]
  },
  {
   "cell_type": "code",
   "execution_count": 19,
   "id": "f4c955a8",
   "metadata": {},
   "outputs": [],
   "source": [
    "abc = mysql.connector.connect(user = 'root',\n",
    "                             password = 'root123',\n",
    "                             host = '127.0.0.1')"
   ]
  },
  {
   "cell_type": "code",
   "execution_count": 22,
   "id": "97c944ee",
   "metadata": {},
   "outputs": [
    {
     "ename": "OperationalError",
     "evalue": "MySQL Connection not available.",
     "output_type": "error",
     "traceback": [
      "\u001b[1;31m---------------------------------------------------------------------------\u001b[0m",
      "\u001b[1;31mOperationalError\u001b[0m                          Traceback (most recent call last)",
      "Cell \u001b[1;32mIn[22], line 1\u001b[0m\n\u001b[1;32m----> 1\u001b[0m cur \u001b[38;5;241m=\u001b[39m abc\u001b[38;5;241m.\u001b[39mcursor()\n\u001b[0;32m      2\u001b[0m cur\u001b[38;5;241m.\u001b[39mexecute(\u001b[38;5;124m\"\"\"\u001b[39m\u001b[38;5;124mcreate database trial;\u001b[39m\u001b[38;5;124m\"\"\"\u001b[39m)\n",
      "File \u001b[1;32mC:\\ProgramData\\anaconda3\\Lib\\site-packages\\mysql\\connector\\connection_cext.py:700\u001b[0m, in \u001b[0;36mCMySQLConnection.cursor\u001b[1;34m(self, buffered, raw, prepared, cursor_class, dictionary, named_tuple)\u001b[0m\n\u001b[0;32m    698\u001b[0m \u001b[38;5;28mself\u001b[39m\u001b[38;5;241m.\u001b[39mhandle_unread_result(prepared)\n\u001b[0;32m    699\u001b[0m \u001b[38;5;28;01mif\u001b[39;00m \u001b[38;5;129;01mnot\u001b[39;00m \u001b[38;5;28mself\u001b[39m\u001b[38;5;241m.\u001b[39mis_connected():\n\u001b[1;32m--> 700\u001b[0m     \u001b[38;5;28;01mraise\u001b[39;00m OperationalError(\u001b[38;5;124m\"\u001b[39m\u001b[38;5;124mMySQL Connection not available.\u001b[39m\u001b[38;5;124m\"\u001b[39m)\n\u001b[0;32m    701\u001b[0m \u001b[38;5;28;01mif\u001b[39;00m cursor_class \u001b[38;5;129;01mis\u001b[39;00m \u001b[38;5;129;01mnot\u001b[39;00m \u001b[38;5;28;01mNone\u001b[39;00m:\n\u001b[0;32m    702\u001b[0m     \u001b[38;5;28;01mif\u001b[39;00m \u001b[38;5;129;01mnot\u001b[39;00m \u001b[38;5;28missubclass\u001b[39m(cursor_class, CMySQLCursor):\n",
      "\u001b[1;31mOperationalError\u001b[0m: MySQL Connection not available."
     ]
    }
   ],
   "source": [
    "cur = abc.cursor()\n",
    "cur.execute(\"\"\"create database trial;\"\"\")"
   ]
  },
  {
   "cell_type": "code",
   "execution_count": 24,
   "id": "79909a72",
   "metadata": {},
   "outputs": [],
   "source": [
    "\n",
    "abc.close()"
   ]
  },
  {
   "cell_type": "code",
   "execution_count": 25,
   "id": "f37b4bf9",
   "metadata": {},
   "outputs": [],
   "source": [
    "abc = mysql.connector.connect(user = 'root',\n",
    "                             password = 'root123',\n",
    "                             host = '127.0.0.1',\n",
    "                             database = 'trial')"
   ]
  },
  {
   "cell_type": "code",
   "execution_count": 27,
   "id": "64adcf1d",
   "metadata": {},
   "outputs": [],
   "source": [
    "cur = abc.cursor()\n",
    "cur.execute(\"\"\"create table student(name varchar(20), rollno int, marks int)\"\"\")\n",
    "abc.commit()\n",
    "abc.close()"
   ]
  },
  {
   "cell_type": "code",
   "execution_count": 32,
   "id": "4ba58aae",
   "metadata": {},
   "outputs": [],
   "source": [
    "abc = mysql.connector.connect(user= 'root',\n",
    "                             password = 'root123',\n",
    "                             host = '127.0.0.1',\n",
    "                             database = 'trial')\n",
    "\n",
    "cur = abc.cursor()\n",
    "cur.execute(\"\"\"insert into student values('Ganesh',16,90)\"\"\")\n",
    "abc.commit()\n",
    "abc.close()"
   ]
  },
  {
   "cell_type": "code",
   "execution_count": 33,
   "id": "34a6fed9",
   "metadata": {},
   "outputs": [],
   "source": [
    "records = [['Amrut',6,90],\n",
    "          ['Kalpesh',22,90],\n",
    "          ['Vikram',13,90]]"
   ]
  },
  {
   "cell_type": "code",
   "execution_count": 42,
   "id": "1ac5f6e7",
   "metadata": {},
   "outputs": [],
   "source": [
    "abc = mysql.connector.connect(user= 'root',\n",
    "                             password = 'root123',\n",
    "                             host = '127.0.0.1',\n",
    "                             database = 'trial')\n",
    "\n",
    "cur = abc.cursor()\n",
    "\n",
    "for name, rollno,marks in records:\n",
    "    query = \"Insert into student values(\"+repr(name)+\",\"+repr(rollno)+\",\"+str(marks)+\");\"\n",
    "    cur.execute(query)\n",
    "\n",
    "abc.commit()\n",
    "abc.close()"
   ]
  }
 ],
 "metadata": {
  "kernelspec": {
   "display_name": "Python 3 (ipykernel)",
   "language": "python",
   "name": "python3"
  },
  "language_info": {
   "codemirror_mode": {
    "name": "ipython",
    "version": 3
   },
   "file_extension": ".py",
   "mimetype": "text/x-python",
   "name": "python",
   "nbconvert_exporter": "python",
   "pygments_lexer": "ipython3",
   "version": "3.11.4"
  }
 },
 "nbformat": 4,
 "nbformat_minor": 5
}
