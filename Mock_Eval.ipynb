{
  "cells": [
    {
      "cell_type": "markdown",
      "id": "c9da455d",
      "metadata": {
        "id": "c9da455d"
      },
      "source": [
        "Given a list of employee ids and names in format ( id_name)\n",
        "Perform following operations on every record in the list and output of each record should be on seperate line\n",
        "1. if name of employee has odd number of vowels then print square root of the employee id\n",
        "2. if name has two 's' then check whether employee id is prime or not.\n",
        "3. if name has vowel in the center then check if id is a amstrong number or not\n",
        "4. if none of the above then print -1\n",
        "\n",
        "Ex. [\"4_cdac\", \"5_ss\", \"9_saeio\"]\n",
        "o/p\n",
        "2\n",
        "Id is prime\n",
        "Amstrong number\n"
      ]
    },
    {
      "cell_type": "code",
      "source": [
        "def odd_vow(name):\n",
        "  cnt=0\n",
        "  for i in name:\n",
        "    if i.lower() in ['a','e','i','o','u']:\n",
        "      cnt+=1\n",
        "  if cnt%2!=0:\n",
        "    return True\n",
        "  else:\n",
        "    return False\n",
        "\n",
        "def check_s(name):\n",
        "  cnt=0\n",
        "  for i in name:\n",
        "    if i.lower()=='s':\n",
        "      cnt+=1\n",
        "  if cnt==2:\n",
        "    return True\n",
        "  else:\n",
        "    return False\n",
        "\n",
        "def prim(id):\n",
        "  id=int(id)\n",
        "  if id in [0,1,2]:\n",
        "    return True\n",
        "  for i in range(3,int(id**0.5)+1):\n",
        "    if id%i==0:\n",
        "      return False\n",
        "    else:\n",
        "      return True\n",
        "\n",
        "def ctr_name(name):\n",
        "  name=name.lower()\n",
        "  vo=['a','e','i','o','u']\n",
        "  a=name[(len(name)//2)]\n",
        "  b=name[(len(name)//2)-1]\n",
        "  if (len(name)%2)==0:\n",
        "    if (a in vo) or (b in vo):\n",
        "      return True\n",
        "    else:\n",
        "      return False\n",
        "  else:\n",
        "    if a in vo:\n",
        "      return True\n",
        "    else:\n",
        "      return False\n",
        "\n",
        "def arm(id):\n",
        "  sum=0\n",
        "  id = str(id)\n",
        "  ln = len(id)\n",
        "\n",
        "  for i in id:\n",
        "    sum += (int(i)**ln)\n",
        "\n",
        "  if sum == int(id):\n",
        "    return True\n",
        "  else:\n",
        "    return False\n",
        "\n"
      ],
      "metadata": {
        "id": "pcN6JcD1w3zI"
      },
      "id": "pcN6JcD1w3zI",
      "execution_count": null,
      "outputs": []
    },
    {
      "cell_type": "code",
      "source": [
        "emp = [\"4_cdac\", \"5_ss\", \"9_saeio\"]\n",
        "for i in emp:\n",
        "  id, name=i.split('_')\n",
        "\n",
        "#if name of employee has odd number of vowels then print square root of the employee\n",
        "  print(id,name,sep='   |   ')\n",
        "  if odd_vow(name):\n",
        "    print('sqrt of emp id: ', int(id)**0.5)\n",
        "#if name has two 's' then check whether employee id is prime or not.\n",
        "  elif check_s(name):\n",
        "    if prim(id):\n",
        "      print(f'empid {id} is prime number')\n",
        "    else:\n",
        "      print(f'empid {id} is not prime number')\n",
        "#if name has vowel in the center then check if id is a amstrong number or not\n",
        "  elif ctr_name(name):\n",
        "    if arm(id):\n",
        "      print(f'empid {id} is armstrong number')\n",
        "    else:\n",
        "      print(f'empid {id} is not armstrong number')\n",
        "#if none of the above then print -1\n",
        "  else:\n",
        "    print('-1')"
      ],
      "metadata": {
        "id": "kuHNoduJzBAH",
        "outputId": "1d38c308-3c76-4bc7-cabf-28c635ae54da",
        "colab": {
          "base_uri": "https://localhost:8080/"
        }
      },
      "id": "kuHNoduJzBAH",
      "execution_count": null,
      "outputs": [
        {
          "output_type": "stream",
          "name": "stdout",
          "text": [
            "4   |   cdac\n",
            "sqrt of emp id:  2.0\n",
            "5   |   ss\n",
            "empid 5 is not prime number\n",
            "9   |   saeio\n",
            "empid 9 is armstrong number\n"
          ]
        }
      ]
    },
    {
      "cell_type": "code",
      "execution_count": null,
      "id": "4ff4c6c3",
      "metadata": {
        "id": "4ff4c6c3",
        "outputId": "2a1bc4eb-46f2-4c6a-de28-ea90f979d1e9"
      },
      "outputs": [
        {
          "name": "stdout",
          "output_type": "stream",
          "text": [
            "4_cdac\n",
            "5_ss\n",
            "9_saeio\n"
          ]
        }
      ],
      "source": [
        "records = [\"4_cdac\", \"5_ss\", \"9_saeio\"]\n",
        "for rec in records :\n",
        "    print(rec)"
      ]
    },
    {
      "cell_type": "code",
      "execution_count": null,
      "id": "5e2efe37",
      "metadata": {
        "id": "5e2efe37"
      },
      "outputs": [],
      "source": [
        "#test cases\n",
        "\"-4_cdac\"\n",
        "\"-4_ss\"\n",
        "\"78_\"\n",
        "\"2_s_er\"\n",
        "\"23_AEI\"\n",
        "\"@12_YU@ sdf\"\n"
      ]
    }
  ],
  "metadata": {
    "kernelspec": {
      "display_name": "Python 3 (ipykernel)",
      "language": "python",
      "name": "python3"
    },
    "language_info": {
      "codemirror_mode": {
        "name": "ipython",
        "version": 3
      },
      "file_extension": ".py",
      "mimetype": "text/x-python",
      "name": "python",
      "nbconvert_exporter": "python",
      "pygments_lexer": "ipython3",
      "version": "3.11.4"
    },
    "colab": {
      "provenance": []
    }
  },
  "nbformat": 4,
  "nbformat_minor": 5
}