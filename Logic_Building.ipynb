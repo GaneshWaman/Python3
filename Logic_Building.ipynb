{
 "cells": [
  {
   "cell_type": "markdown",
   "metadata": {
    "id": "-1AwwoxgTfxS"
   },
   "source": [
    "## Basic Logic building programs\n",
    "\n",
    "Simple Calculator Program"
   ]
  },
  {
   "cell_type": "code",
   "execution_count": null,
   "metadata": {
    "colab": {
     "base_uri": "https://localhost:8080/"
    },
    "id": "yStU6Q6iTbYt",
    "outputId": "ac0467be-b586-43b6-bf41-b61412a128e5"
   },
   "outputs": [
    {
     "name": "stdout",
     "output_type": "stream",
     "text": [
      "Enter you choice number for the operation.\n",
      "1. Addition\n",
      "2. Subtraction\n",
      "3. Multiplication\n",
      "4. Division\n",
      "Enter a number: 5\n",
      "Please enter proper choice number\n"
     ]
    }
   ],
   "source": [
    "n1=12\n",
    "n2=14\n",
    "print(\"Enter you choice number for the operation.\\n1. Addition\\n2. Subtraction\\n3. Multiplication\\n4. Division\")\n",
    "opr=int(input(\"Enter a number: \"))\n",
    "\n",
    "match opr:\n",
    "  case 1:\n",
    "    print(\"Addition is: \",n1+n2)\n",
    "  case 2:\n",
    "    print(\"Subtraction is: \",n1-n2)\n",
    "  case 3:\n",
    "    print(\"Multiplication is: \",n1*n2)\n",
    "  case 4:\n",
    "    print(\"Division is: \",n1/n2)\n",
    "  case _:\n",
    "    print(\"Please enter proper choice number\")\n",
    "\n",
    "\n"
   ]
  },
  {
   "cell_type": "markdown",
   "metadata": {
    "id": "IdEaEGIwWvCj"
   },
   "source": [
    "WAP to print the odd numbers from 1 to 99. Prints one number per line."
   ]
  },
  {
   "cell_type": "code",
   "execution_count": null,
   "metadata": {
    "colab": {
     "base_uri": "https://localhost:8080/"
    },
    "id": "FV3fRsRPUMmK",
    "outputId": "fadc05a3-19af-4897-ad9e-f000941a9bfb"
   },
   "outputs": [
    {
     "name": "stdout",
     "output_type": "stream",
     "text": [
      "1\n",
      "3\n",
      "5\n",
      "7\n",
      "9\n",
      "11\n",
      "13\n",
      "15\n",
      "17\n",
      "19\n",
      "21\n",
      "23\n",
      "25\n",
      "27\n",
      "29\n",
      "31\n",
      "33\n",
      "35\n",
      "37\n",
      "39\n",
      "41\n",
      "43\n",
      "45\n",
      "47\n",
      "49\n",
      "51\n",
      "53\n",
      "55\n",
      "57\n",
      "59\n",
      "61\n",
      "63\n",
      "65\n",
      "67\n",
      "69\n",
      "71\n",
      "73\n",
      "75\n",
      "77\n",
      "79\n",
      "81\n",
      "83\n",
      "85\n",
      "87\n",
      "89\n",
      "91\n",
      "93\n",
      "95\n",
      "97\n",
      "99\n"
     ]
    }
   ],
   "source": [
    "for i in range(1,100,2):\n",
    "  print(i)"
   ]
  },
  {
   "cell_type": "markdown",
   "metadata": {
    "id": "1SUseXtUX1TW"
   },
   "source": [
    "WAP  to accept a number and check the number is even or not. Prints 1 if the number is even or 0 if the number is odd.\n"
   ]
  },
  {
   "cell_type": "code",
   "execution_count": null,
   "metadata": {
    "colab": {
     "base_uri": "https://localhost:8080/"
    },
    "id": "OOOxVwHLXlpe",
    "outputId": "580d4893-43d3-492a-ba38-f72365c194ee"
   },
   "outputs": [
    {
     "name": "stdout",
     "output_type": "stream",
     "text": [
      "Enter a number: 5\n",
      "0\n"
     ]
    }
   ],
   "source": [
    "num=int(input(\"Enter a number: \"))\n",
    "\n",
    "if num%2==0:\n",
    "  print(\"1\")\n",
    "else:\n",
    "  print(\"0\")"
   ]
  },
  {
   "cell_type": "markdown",
   "metadata": {
    "id": "G3UxXjFYYUtW"
   },
   "source": [
    "WAP to print numbers between 1 to 100 which are divisible by 3, 5 and by both\n",
    "( total 3 list of numbers to be printed)"
   ]
  },
  {
   "cell_type": "code",
   "execution_count": null,
   "metadata": {
    "colab": {
     "base_uri": "https://localhost:8080/"
    },
    "id": "13wREA_yYM2N",
    "outputId": "3f338e38-b934-4956-b347-632ce5b7960c"
   },
   "outputs": [
    {
     "name": "stdout",
     "output_type": "stream",
     "text": [
      "list of number divisible by 3 is:  [3, 6, 9, 12, 15, 18, 21, 24, 27, 30, 33, 36, 39, 42, 45, 48, 51, 54, 57, 60, 63, 66, 69, 72, 75, 78, 81, 84, 87, 90, 93, 96, 99]\n",
      "list of number divisible by 5 is:  [5, 10, 15, 20, 25, 30, 35, 40, 45, 50, 55, 60, 65, 70, 75, 80, 85, 90, 95, 100]\n",
      "list of number divisible by 3 & 5 is:  [15, 30, 45, 60, 75, 90]\n"
     ]
    }
   ],
   "source": [
    "l1=[]\n",
    "l2=[]\n",
    "l3=[]\n",
    "for i in range(1,101):\n",
    "  if i%3==0:\n",
    "    l1.append(i)\n",
    "  if i%5==0:\n",
    "    l2.append(i)\n",
    "  if (i%3==0) and (i%5==0):\n",
    "    l3.append(i)\n",
    "\n",
    "print(\"list of number divisible by 3 is: \",l1)\n",
    "print(\"list of number divisible by 5 is: \",l2)\n",
    "print(\"list of number divisible by 3 & 5 is: \",l3)\n",
    "\n"
   ]
  },
  {
   "cell_type": "markdown",
   "metadata": {
    "id": "wE1HviHnbHDx"
   },
   "source": [
    "WAP that accepts three integers from the user and return true if two or more of them (integers ) have the same rightmost digit. The integers are non-negative\n"
   ]
  },
  {
   "cell_type": "code",
   "execution_count": null,
   "metadata": {
    "colab": {
     "base_uri": "https://localhost:8080/"
    },
    "id": "dzg6tGA9Z9d7",
    "outputId": "8336a268-93c6-4fb3-c910-20e51c5e4fec"
   },
   "outputs": [
    {
     "name": "stdout",
     "output_type": "stream",
     "text": [
      "Enter 3 numbers: 45 34 87\n",
      "False\n"
     ]
    }
   ],
   "source": [
    "n=input(\"Enter 3 numbers: \").split()\n",
    "a=int(n[0])\n",
    "b=int(n[1])\n",
    "c=int(n[2])\n",
    "if ((a%10)==(b%10)) or ((b%10)==(c%10)) or ((a%10)==(c%10)):\n",
    "  print(\"True\")\n",
    "else:\n",
    "  print(\"False\")\n",
    "\n"
   ]
  },
  {
   "cell_type": "markdown",
   "metadata": {
    "id": "h6F_SWL7hdpm"
   },
   "source": [
    "WAP to convert input number of seconds to HH:MM:SS."
   ]
  },
  {
   "cell_type": "code",
   "execution_count": null,
   "metadata": {
    "colab": {
     "base_uri": "https://localhost:8080/"
    },
    "id": "SPlVYYTBbepW",
    "outputId": "8e55732d-bb55-4674-ba9b-b2157aaf4580"
   },
   "outputs": [
    {
     "name": "stdout",
     "output_type": "stream",
     "text": [
      "Enter input nuber inn seconds: 61\n",
      "HH :MM :SS :: 0 : 1 : 1\n"
     ]
    }
   ],
   "source": [
    "sec=int(input(\"Enter input nuber inn seconds: \"))\n",
    "\n",
    "h,m=divmod(sec,(60*60));\n",
    "m,s=divmod(m,60);\n",
    "print(\"HH :MM :SS ::\",h,':',m,':',s);"
   ]
  },
  {
   "cell_type": "markdown",
   "metadata": {
    "id": "bpR8XP8fhlo5"
   },
   "source": [
    "WAP to print all leap years between 2000 to 2100. Apply all conditions of checking leap year ( (divisible by 4 and not divisible by 100) OR (divisible by 400))"
   ]
  },
  {
   "cell_type": "markdown",
   "metadata": {
    "id": "d1MtT41Rhf0n"
   },
   "source": []
  },
  {
   "cell_type": "code",
   "execution_count": null,
   "metadata": {
    "colab": {
     "base_uri": "https://localhost:8080/"
    },
    "id": "EQrNYzrwhoSC",
    "outputId": "6b5d7a58-00bb-48be-8563-53a7c99513d8"
   },
   "outputs": [
    {
     "name": "stdout",
     "output_type": "stream",
     "text": [
      "2000\n",
      "2004\n",
      "2008\n",
      "2012\n",
      "2016\n",
      "2020\n",
      "2024\n",
      "2028\n",
      "2032\n",
      "2036\n",
      "2040\n",
      "2044\n",
      "2048\n",
      "2052\n",
      "2056\n",
      "2060\n",
      "2064\n",
      "2068\n",
      "2072\n",
      "2076\n",
      "2080\n",
      "2084\n",
      "2088\n",
      "2092\n",
      "2096\n"
     ]
    }
   ],
   "source": [
    "for i in range(2000,2101):\n",
    "  if (i%400==0)and(i%100==0):\n",
    "      print(i)\n",
    "\n",
    "  elif(i%4==0)and(i%100!=0):\n",
    "      print(i)"
   ]
  },
  {
   "cell_type": "markdown",
   "metadata": {
    "id": "_YWVBtJMm85R"
   },
   "source": [
    "WAP to print calender for a month. Take how many days are there in month and starting day of the month as input\n",
    "    Ex. input no of days : 30  starting day of month : Thursday\n",
    "    Ouput :: Day wise Calender  ( just like June 2022 month)"
   ]
  },
  {
   "cell_type": "code",
   "execution_count": null,
   "metadata": {
    "colab": {
     "base_uri": "https://localhost:8080/"
    },
    "id": "gGNuZh4Gnkp8",
    "outputId": "3a8d8ca1-3c33-4de5-f296-70f1dc8c4ecf"
   },
   "outputs": [
    {
     "name": "stdout",
     "output_type": "stream",
     "text": [
      "Enter total no of days in month: 30\n",
      "Enter 1st Day of month: Thu\n",
      "1   Thu\n",
      "2   Fri\n",
      "3   Sat\n",
      "4   Sun\n",
      "5   Mon\n",
      "6   Tue\n",
      "7   Wed\n",
      "8   Thu\n",
      "9   Fri\n",
      "10   Sat\n",
      "11   Sun\n",
      "12   Mon\n",
      "13   Tue\n",
      "14   Wed\n",
      "15   Thu\n",
      "16   Fri\n",
      "17   Sat\n",
      "18   Sun\n",
      "19   Mon\n",
      "20   Tue\n",
      "21   Wed\n",
      "22   Thu\n",
      "23   Fri\n",
      "24   Sat\n",
      "25   Sun\n",
      "26   Mon\n",
      "27   Tue\n",
      "28   Wed\n",
      "29   Thu\n",
      "30   Fri\n"
     ]
    }
   ],
   "source": [
    "n=int(input(\"Enter total no of days in month: \"))\n",
    "day=input(\"Enter 1st Day of month: \")\n",
    "wd=['Mon', 'Tue', 'Wed', 'Thu', 'Fri', 'Sat','Sun']\n",
    "\n",
    "a=wd.index(day)\n",
    "for i in range(1,n+1):\n",
    "  print(i,\" \",wd[a])\n",
    "  a+=1\n",
    "  if a>6:\n",
    "    a=0\n"
   ]
  },
  {
   "cell_type": "markdown",
   "metadata": {
    "id": "6Z4TaPu1sGlO"
   },
   "source": [
    "WAP to print day of input date when given day for 1st day of that month\n",
    "    ex. input date : 16/07/2022  day of 1st day of that month : Friday\n",
    "    output : saturday"
   ]
  },
  {
   "cell_type": "code",
   "execution_count": null,
   "metadata": {
    "colab": {
     "base_uri": "https://localhost:8080/"
    },
    "id": "dL_xaBTKoQEu",
    "outputId": "f3e0b068-286a-4e3b-f181-6788655b4b3d"
   },
   "outputs": [
    {
     "name": "stdout",
     "output_type": "stream",
     "text": [
      "Enter total no of days in month: 16/07/2022\n",
      "Enter 1st Day of month: Sun\n",
      "Mon\n"
     ]
    }
   ],
   "source": [
    "n=input(\"Enter total no of days in month: \").split('/')\n",
    "date=int(n[0])\n",
    "day=input(\"Enter 1st Day of month: \")\n",
    "wd=['Mon', 'Tue', 'Wed', 'Thu', 'Fri', 'Sat','Sun']\n",
    "first_day=wd.index(day)\n",
    "day=((date+first_day-1)%7)\n",
    "print(wd[day])"
   ]
  },
  {
   "cell_type": "markdown",
   "metadata": {
    "id": "1zDVicBBRa44"
   },
   "source": [
    "Factorial Program using Recursion\n",
    "    n! = n * (n-1) * (n-2) * ... *2*1"
   ]
  },
  {
   "cell_type": "code",
   "execution_count": null,
   "metadata": {
    "colab": {
     "base_uri": "https://localhost:8080/"
    },
    "id": "1Sg2TVqugMMO",
    "outputId": "b44c73c0-ec69-4f34-ca0a-f733ad6c8749"
   },
   "outputs": [
    {
     "data": {
      "text/plain": [
       "120"
      ]
     },
     "execution_count": 4,
     "metadata": {},
     "output_type": "execute_result"
    }
   ],
   "source": [
    "def recur_factorial(n):\n",
    "   if n == 1:\n",
    "       return n\n",
    "   else:\n",
    "       return n*recur_factorial(n-1)\n",
    "\n",
    "recur_factorial(5)"
   ]
  },
  {
   "cell_type": "markdown",
   "metadata": {
    "id": "v0IPL2Idhus6"
   },
   "source": [
    "Factorial of a number using loop\n",
    "    n! = n * (n-1) * (n-2) * ... *2*1"
   ]
  },
  {
   "cell_type": "code",
   "execution_count": null,
   "metadata": {
    "colab": {
     "base_uri": "https://localhost:8080/"
    },
    "id": "NP2RhqSjgUa4",
    "outputId": "b2b34577-3074-4cf8-8297-500cb3673b6e"
   },
   "outputs": [
    {
     "name": "stdout",
     "output_type": "stream",
     "text": [
      "Enter a number: 5\n",
      "factorial of 5 is 120.\n"
     ]
    }
   ],
   "source": [
    "n=int(input(\"Enter a number: \"))\n",
    "fact=1\n",
    "\n",
    "for i in range(1,n+1):\n",
    "  fact*=i\n",
    "print(f'factorial of {n} is {fact}.')"
   ]
  },
  {
   "cell_type": "markdown",
   "metadata": {
    "id": "gQHOQVWFhzxZ"
   },
   "source": [
    "Armstrong Number.\n",
    "    It is a number with 'n' digits. Here (sum of every digit ^ n) equal to ( number itself)"
   ]
  },
  {
   "cell_type": "code",
   "execution_count": null,
   "metadata": {
    "colab": {
     "base_uri": "https://localhost:8080/"
    },
    "id": "_u_ybYkZjgWD",
    "outputId": "1eaa837e-3a9b-4a6c-d078-084745d0eddd"
   },
   "outputs": [
    {
     "name": "stdout",
     "output_type": "stream",
     "text": [
      "Enter a number: 153\n",
      "153 is Armstrong number.\n"
     ]
    }
   ],
   "source": [
    "n=input(\"Enter a number: \")\n",
    "sum=0\n",
    "\n",
    "for i in n:\n",
    "  i=int(i)\n",
    "  sum+=(i**len(n))\n",
    "\n",
    "if sum==int(n):\n",
    "  print(f'{n} is Armstrong number.')\n",
    "else:\n",
    "  print(f\"{n} is not a Armstrong number.\")\n",
    "\n"
   ]
  },
  {
   "cell_type": "markdown",
   "metadata": {
    "id": "1L7Y8JWuhzTX"
   },
   "source": [
    "Fibonacci Series.\n",
    "    1,1,2,3,5,8,13,21,34,..."
   ]
  },
  {
   "cell_type": "code",
   "execution_count": null,
   "metadata": {
    "colab": {
     "base_uri": "https://localhost:8080/"
    },
    "id": "ZGkJqHFKnUAy",
    "outputId": "bbdfc896-8ab5-4c5a-e6fd-58ce95b9b462"
   },
   "outputs": [
    {
     "name": "stdout",
     "output_type": "stream",
     "text": [
      "Enter a number upto which You want to print Fibo series: 5\n",
      "1 2 3 5 8 "
     ]
    }
   ],
   "source": [
    "n=int(input(\"Enter a number upto which You want to print Fibo series: \"))\n",
    "prv=0\n",
    "nxt=1\n",
    "tem=0\n",
    "\n",
    "for i in range(int(n)):\n",
    "  tem=nxt\n",
    "  nxt+=prv\n",
    "  prv=tem\n",
    "  print(nxt, end=\" \")\n",
    "\n",
    "\n"
   ]
  },
  {
   "cell_type": "markdown",
   "metadata": {
    "id": "ZwK8WSnVneMy"
   },
   "source": [
    "Perfect sqaure WAP to check if a number is perfect square ot not."
   ]
  },
  {
   "cell_type": "code",
   "execution_count": null,
   "metadata": {
    "colab": {
     "base_uri": "https://localhost:8080/"
    },
    "id": "3dC9hlHjnej_",
    "outputId": "c0f1ee0f-fafe-4ed8-a37d-571e16ce3ce1"
   },
   "outputs": [
    {
     "name": "stdout",
     "output_type": "stream",
     "text": [
      "Enter a Number: 36\n",
      "36 is perfect Squre of 6.\n"
     ]
    }
   ],
   "source": [
    "import math\n",
    "n=int(input(\"Enter a Number: \"))\n",
    "sqr=math.sqrt(n)\n",
    "\n",
    "if sqr==math.floor(sqr):\n",
    "  print(f\"{n} is perfect Squre of {math.floor(sqr)}.\")\n",
    "else:\n",
    "  print(f\"{n} is not perfect Squre\")\n"
   ]
  },
  {
   "cell_type": "markdown",
   "metadata": {
    "id": "U5GBtI4Gnh0F"
   },
   "source": [
    "Prime number.\n",
    "    Number is not divisible by any number other than 1 and itself"
   ]
  },
  {
   "cell_type": "code",
   "execution_count": null,
   "metadata": {
    "colab": {
     "base_uri": "https://localhost:8080/"
    },
    "id": "oWjRrFzzniOV",
    "outputId": "9151b285-5652-4605-c2e9-55a6bdbb0a6f"
   },
   "outputs": [
    {
     "name": "stdout",
     "output_type": "stream",
     "text": [
      "Enter a number: 56\n",
      "56 is a prime number\n"
     ]
    }
   ],
   "source": [
    "n=int(input(\"Enter a number: \"))\n",
    "count=0\n",
    "for i in range(1,int(n**0.5)+1):\n",
    "  if (n%i)==0:\n",
    "    count+=1\n",
    "    break\n",
    "\n",
    "if count>1:\n",
    "  print(f\"{n} is not a prime number\")\n",
    "else:\n",
    "  print(f\"{n} is a prime number\")\n",
    "\n",
    "\n"
   ]
  },
  {
   "cell_type": "markdown",
   "metadata": {
    "id": "D3SykbsMnkFP"
   },
   "source": [
    "Reverse a number."
   ]
  },
  {
   "cell_type": "code",
   "execution_count": null,
   "metadata": {
    "colab": {
     "base_uri": "https://localhost:8080/"
    },
    "id": "DPrW6hR3nqXu",
    "outputId": "62c84dff-1121-4a27-c13b-89839e5ad25f"
   },
   "outputs": [
    {
     "name": "stdout",
     "output_type": "stream",
     "text": [
      "Enter a number: 573\n",
      "375\n"
     ]
    }
   ],
   "source": [
    "n=int(input(\"Enter a number: \"))\n",
    "i=1\n",
    "n=str(n)\n",
    "print(n[::-1])"
   ]
  },
  {
   "cell_type": "code",
   "execution_count": null,
   "metadata": {
    "colab": {
     "base_uri": "https://localhost:8080/"
    },
    "id": "IbUh76MeKxSo",
    "outputId": "768c47cc-e081-4ba7-fb08-9c30113f49fd"
   },
   "outputs": [
    {
     "name": "stdout",
     "output_type": "stream",
     "text": [
      "Enter a number: 237491\n",
      "194732\n"
     ]
    }
   ],
   "source": [
    "n=int(input(\"Enter a number: \"))\n",
    "rev=''\n",
    "while n>0:\n",
    "  a=n%10\n",
    "  rev+=str(a)\n",
    "  n=n//10\n",
    "\n",
    "print(rev)"
   ]
  },
  {
   "cell_type": "markdown",
   "metadata": {
    "id": "xz8SXVGUnngV"
   },
   "source": [
    "Reverse a string."
   ]
  },
  {
   "cell_type": "code",
   "execution_count": null,
   "metadata": {
    "colab": {
     "base_uri": "https://localhost:8080/"
    },
    "id": "RWjJWpE2ny43",
    "outputId": "0b405d9d-8645-462b-ce1c-4c45da5c9bf8"
   },
   "outputs": [
    {
     "name": "stdout",
     "output_type": "stream",
     "text": [
      "Enter a number: Ganesh\n",
      "hsenaG\n"
     ]
    }
   ],
   "source": [
    "n=(input(\"Enter a String: \"))\n",
    "i=1\n",
    "n=str(n)\n",
    "print(n[::-1])"
   ]
  },
  {
   "cell_type": "code",
   "execution_count": null,
   "metadata": {
    "colab": {
     "base_uri": "https://localhost:8080/"
    },
    "id": "8GvwYiKoLNVg",
    "outputId": "fcb9b624-0d86-467b-8308-8237314efbee"
   },
   "outputs": [
    {
     "name": "stdout",
     "output_type": "stream",
     "text": [
      "Enter a String: Ganesh\n",
      "hsenaG\n"
     ]
    }
   ],
   "source": [
    "n=(input(\"Enter a String: \"))\n",
    "l=[]\n",
    "for i in range(1,len(n)+1):\n",
    "  l.append(n[-i])\n",
    "\n",
    "print(\"\".join(l))"
   ]
  },
  {
   "cell_type": "markdown",
   "metadata": {
    "id": "B2IeZFgEn1Tv"
   },
   "source": [
    "Check Palindrome number"
   ]
  },
  {
   "cell_type": "code",
   "execution_count": null,
   "metadata": {
    "colab": {
     "base_uri": "https://localhost:8080/"
    },
    "id": "3BZmWwvloHZm",
    "outputId": "0698c957-eb38-485c-c3dc-4ee44eac95e0"
   },
   "outputs": [
    {
     "name": "stdout",
     "output_type": "stream",
     "text": [
      "Enter a Number: 2334332\n",
      "Number is Palindrome\n"
     ]
    }
   ],
   "source": [
    "n=input(\"Enter a Number: \")\n",
    "\n",
    "if int(n)== int(n[::-1]):\n",
    "  print(\"Number is Palindrome\")\n",
    "else:\n",
    "  print(\"Number is not Palindrome\")\n",
    "\n"
   ]
  },
  {
   "cell_type": "markdown",
   "metadata": {
    "id": "pTizuv97nzYC"
   },
   "source": [
    "Check Palindrome string."
   ]
  },
  {
   "cell_type": "code",
   "execution_count": null,
   "metadata": {
    "colab": {
     "base_uri": "https://localhost:8080/"
    },
    "id": "xrfw5p9coM-U",
    "outputId": "9275ec53-41f7-49f8-b724-e3d38c3698e2"
   },
   "outputs": [
    {
     "name": "stdout",
     "output_type": "stream",
     "text": [
      "Enter a String: Sps\n",
      "Sps is Palindrome\n"
     ]
    }
   ],
   "source": [
    "n=input(\"Enter a String: \")\n",
    "n1=n.lower()\n",
    "if n1==(n1[::-1]):\n",
    "  print(f\"{n} is Palindrome\")\n",
    "else:\n",
    "  print(f\"{n} is not Palindrome\")"
   ]
  },
  {
   "cell_type": "markdown",
   "metadata": {
    "id": "O0HHuRJdn-dE"
   },
   "source": [
    "Find duplicate characters in a string."
   ]
  },
  {
   "cell_type": "code",
   "execution_count": null,
   "metadata": {
    "colab": {
     "base_uri": "https://localhost:8080/"
    },
    "id": "TjtXyFehoPxN",
    "outputId": "6bd6cf4e-20a6-46b7-a28f-adf35ae42abb"
   },
   "outputs": [
    {
     "name": "stdout",
     "output_type": "stream",
     "text": [
      "Enter a String: happy new year!\n",
      "{'y', 'e', 'a', 'p'}\n"
     ]
    }
   ],
   "source": [
    "n=input(\"Enter a String: \")\n",
    "\n",
    "dup=set()\n",
    "for i in n:\n",
    "  a=n.count(i)\n",
    "  if a>1:\n",
    "    dup.add(i)\n",
    "\n",
    "dup.remove(\" \")\n",
    "print(dup)"
   ]
  },
  {
   "cell_type": "markdown",
   "metadata": {
    "id": "pNyJfLMxoURU"
   },
   "source": [
    "## Permutation and Combination Program"
   ]
  },
  {
   "cell_type": "markdown",
   "metadata": {
    "id": "DNZOgQ9BoV-8"
   },
   "source": [
    "Take a number from user. Print highest number possible using all digits once from given number"
   ]
  },
  {
   "cell_type": "code",
   "execution_count": null,
   "metadata": {
    "colab": {
     "base_uri": "https://localhost:8080/"
    },
    "id": "_ziJwEGYobhT",
    "outputId": "1b2a0e77-7260-4505-eb1e-fa21232abc86"
   },
   "outputs": [
    {
     "name": "stdout",
     "output_type": "stream",
     "text": [
      "Enter a number: 56952435\n",
      "96555432\n"
     ]
    }
   ],
   "source": [
    "n=input(\"Enter a number: \")\n",
    "# n='8736294'\n",
    "l=[]\n",
    "m=''\n",
    "\n",
    "for i in n:\n",
    "  l.append(int(i))\n",
    "\n",
    "for i in range(len(l)):\n",
    "  a=max(l)\n",
    "  m+=str(a)\n",
    "  l.remove(a)\n",
    "\n",
    "print(m)"
   ]
  },
  {
   "cell_type": "markdown",
   "metadata": {
    "id": "Dw6u_vlWXmDn"
   },
   "source": [
    "print table of any given number\n",
    "    2,4,6,8,10,12,14,16,18,20"
   ]
  },
  {
   "cell_type": "code",
   "execution_count": null,
   "metadata": {
    "colab": {
     "base_uri": "https://localhost:8080/"
    },
    "id": "ZlTN5fnTXmyf",
    "outputId": "10f7c0e0-bec7-4a9e-a04e-18c54020dad6"
   },
   "outputs": [
    {
     "name": "stdout",
     "output_type": "stream",
     "text": [
      "Enter a number: 12\n",
      "12 24 36 48 60 72 84 96 108 120 "
     ]
    }
   ],
   "source": [
    "n=int(input(\"Enter a number: \"))\n",
    "\n",
    "for i in range(1,11):\n",
    "  print(i*n, end=\" \")"
   ]
  },
  {
   "cell_type": "markdown",
   "metadata": {
    "id": "aNU_f8uyYEt-"
   },
   "source": [
    "WAP for doing bubble sort of given numbers"
   ]
  },
  {
   "cell_type": "code",
   "execution_count": 5,
   "metadata": {
    "colab": {
     "base_uri": "https://localhost:8080/"
    },
    "id": "8RQ3LY6LX-Nv",
    "outputId": "33b44066-baec-423a-b755-8fed1bd25478"
   },
   "outputs": [
    {
     "name": "stdout",
     "output_type": "stream",
     "text": [
      "[5, 6, 9, 2, 8, 3]\n",
      "[5, 6, 2, 9, 8, 3]\n",
      "[5, 6, 2, 8, 9, 3]\n",
      "[5, 6, 2, 8, 3, 9]\n",
      "[5, 2, 6, 8, 3, 9]\n",
      "[5, 2, 6, 3, 8, 9]\n",
      "[2, 5, 6, 3, 8, 9]\n",
      "[2, 5, 3, 6, 8, 9]\n",
      "[2, 3, 5, 6, 8, 9]\n"
     ]
    }
   ],
   "source": [
    "#Bubble Sort\n",
    "inl = [5,9,6,2,8,3]\n",
    "for j in range(len(inl)):\n",
    "    for i in range(len(inl)-1):\n",
    "        if inl[i]>inl[i+1]:\n",
    "            a=inl[i]\n",
    "            b=inl[i+1]\n",
    "            inl[i]=b\n",
    "            inl[i+1]=a\n",
    "            print(inl)"
   ]
  },
  {
   "cell_type": "markdown",
   "metadata": {
    "id": "m_K4jd0WYJqi"
   },
   "source": [
    "Write a  program to print the area and perimeter of a circle"
   ]
  },
  {
   "cell_type": "code",
   "execution_count": null,
   "metadata": {
    "colab": {
     "base_uri": "https://localhost:8080/"
    },
    "id": "33W7vUHJX1pd",
    "outputId": "c0fe6701-4fa5-4e67-ced2-c2017f996057"
   },
   "outputs": [
    {
     "name": "stdout",
     "output_type": "stream",
     "text": [
      "Enter radius of circle in: 45\n",
      "Area of circle is 6361.73 and perimeter is 282.74.\n"
     ]
    }
   ],
   "source": [
    "from IPython.utils import path\n",
    "import math\n",
    "r=int(input(\"Enter radius of circle in: \"))\n",
    "a= round(math.pi*r**2,2)\n",
    "p= round(2*math.pi*r,2)\n",
    "\n",
    "print(f\"Area of circle is {a} and perimeter is {p}.\")"
   ]
  },
  {
   "cell_type": "markdown",
   "metadata": {
    "id": "AgyT4QjWZnvE"
   },
   "source": [
    "Write a  program that takes three numbers as input to calculate and print the average of the numbers.\n"
   ]
  },
  {
   "cell_type": "code",
   "execution_count": null,
   "metadata": {
    "colab": {
     "base_uri": "https://localhost:8080/"
    },
    "id": "mw8Wl-N_Y__f",
    "outputId": "e572540d-4004-431a-83bc-fb275e61c75d"
   },
   "outputs": [
    {
     "name": "stdout",
     "output_type": "stream",
     "text": [
      "Enter a number: 34\n",
      "Enter a number: 45\n",
      "Enter a number: 46\n",
      "Avg is 41.67\n"
     ]
    }
   ],
   "source": [
    "sum=0\n",
    "for i in range (3):\n",
    "  n1=int(input(\"Enter a number: \"))\n",
    "  sum+=n1\n",
    "\n",
    "print(f\"Avg is {round(sum/3,2)}\")"
   ]
  },
  {
   "cell_type": "markdown",
   "metadata": {
    "id": "QwK7gq6zbOmo"
   },
   "source": [
    "45Write a  program that takes three numbers as input then print maximum and minimum number of the three\n"
   ]
  },
  {
   "cell_type": "code",
   "execution_count": null,
   "metadata": {
    "colab": {
     "base_uri": "https://localhost:8080/"
    },
    "id": "tCLNr4p8bGUl",
    "outputId": "84c003a1-7f32-4159-ade4-39574f7f0e43"
   },
   "outputs": [
    {
     "name": "stdout",
     "output_type": "stream",
     "text": [
      "Enter a number: 324,325,34634,6\n",
      "Max:  [34634, 325, 324, 6]\n",
      "Min:  [6, 324, 325, 34634]\n"
     ]
    }
   ],
   "source": [
    "n=input(\"Enter a number: \").split(',')\n",
    "\n",
    "l=[]\n",
    "max_no=[]\n",
    "\n",
    "for i in n:\n",
    "  l.append(int(i))\n",
    "\n",
    "for i in range(len(l)):\n",
    "  max_no.append(max(l))\n",
    "  l.remove(max(l))\n",
    "\n",
    "\n",
    "min_no=max_no[::-1]\n",
    "print('Max: ',max_no)\n",
    "print('Min: ',min_no)\n"
   ]
  },
  {
   "cell_type": "markdown",
   "metadata": {
    "id": "SZPBr2J_bOV_"
   },
   "source": [
    "Write a  program and compute the sum of the digits of an integer."
   ]
  },
  {
   "cell_type": "code",
   "execution_count": null,
   "metadata": {
    "colab": {
     "base_uri": "https://localhost:8080/"
    },
    "id": "r7lo6dB5bZgh",
    "outputId": "a22089cf-fe72-400e-ddf2-75358febe44b"
   },
   "outputs": [
    {
     "name": "stdout",
     "output_type": "stream",
     "text": [
      "Enter a number543\n",
      "sum is 12\n"
     ]
    }
   ],
   "source": [
    "n=int(input(\"Enter a number\"))\n",
    "sum=0\n",
    "while n!=0:\n",
    "  a=n%10\n",
    "  n=n//10\n",
    "  sum+=a\n",
    "\n",
    "print(f\"sum is {sum}\")"
   ]
  },
  {
   "cell_type": "code",
   "execution_count": null,
   "metadata": {
    "colab": {
     "base_uri": "https://localhost:8080/"
    },
    "id": "61ByntbXcFhN",
    "outputId": "05083ef1-78b6-496c-bdb1-99c76d655302"
   },
   "outputs": [
    {
     "name": "stdout",
     "output_type": "stream",
     "text": [
      "Enter a number: 2344\n",
      "sum is 13\n"
     ]
    }
   ],
   "source": [
    "n=input(\"Enter a number: \")\n",
    "sum=0\n",
    "for i in n:\n",
    "  sum+= int(i)\n",
    "\n",
    "print(f\"sum is {sum}\")"
   ]
  },
  {
   "cell_type": "markdown",
   "metadata": {
    "id": "YdydaK1JdOUf"
   },
   "source": [
    "Write a  program to swap two variables\n",
    "a. by using a temporary variable\n",
    "b. using arithmatic operation and not using a variable\n",
    "c. without using variable ( using python unpacking syntax)"
   ]
  },
  {
   "cell_type": "code",
   "execution_count": null,
   "metadata": {
    "colab": {
     "base_uri": "https://localhost:8080/"
    },
    "id": "LLkh4kzOco6n",
    "outputId": "89b96b27-b1a5-4e13-b9b3-ae697cbaf86b"
   },
   "outputs": [
    {
     "name": "stdout",
     "output_type": "stream",
     "text": [
      "Before swap a=3, b=4\n",
      "After swap a=4, b=3\n"
     ]
    }
   ],
   "source": [
    "#by using a temporary variable\n",
    "a,b=3,4\n",
    "print(f\"Before swap a={a}, b={b}\")\n",
    "temp = a\n",
    "a=b\n",
    "b=temp\n",
    "print(f\"After swap a={a}, b={b}\")\n"
   ]
  },
  {
   "cell_type": "code",
   "execution_count": null,
   "metadata": {
    "colab": {
     "base_uri": "https://localhost:8080/"
    },
    "id": "z_cOEYuZdw6Z",
    "outputId": "b77832ff-ee51-4dae-de3d-2358c53c1e08"
   },
   "outputs": [
    {
     "name": "stdout",
     "output_type": "stream",
     "text": [
      "Before swap a=3, b=4\n",
      "After swap a=4, b=3\n"
     ]
    }
   ],
   "source": [
    "# without using variable\n",
    "a,b=3,4\n",
    "print(f\"Before swap a={a}, b={b}\")\n",
    "a,b=b,a\n",
    "print(f\"After swap a={a}, b={b}\")"
   ]
  },
  {
   "cell_type": "code",
   "execution_count": null,
   "metadata": {
    "colab": {
     "base_uri": "https://localhost:8080/"
    },
    "id": "rQgtwyRweDPG",
    "outputId": "fd739c4c-1f02-4129-d723-f5ca12d9935c"
   },
   "outputs": [
    {
     "name": "stdout",
     "output_type": "stream",
     "text": [
      "Before swap a=3, b=4\n",
      "After swap a=4, b=3\n"
     ]
    }
   ],
   "source": [
    "# using arithmatic operation and not using a variable\n",
    "a,b=3,4\n",
    "print(f\"Before swap a={a}, b={b}\")\n",
    "a=a+b\n",
    "b=a-b\n",
    "a=a-b\n",
    "print(f\"After swap a={a}, b={b}\")"
   ]
  },
  {
   "cell_type": "markdown",
   "metadata": {
    "id": "BE4x2vs9eVyn"
   },
   "source": [
    "WAP  to print the ascii value of a given character"
   ]
  },
  {
   "cell_type": "code",
   "execution_count": null,
   "metadata": {
    "colab": {
     "base_uri": "https://localhost:8080/"
    },
    "id": "ik-BFofGPgo3",
    "outputId": "c0e62abf-12c6-463a-c2c5-6b9a95610da4"
   },
   "outputs": [
    {
     "name": "stdout",
     "output_type": "stream",
     "text": [
      "Enter a chracter: a\n",
      "ASCII value of character is:  97\n"
     ]
    }
   ],
   "source": [
    "n=input(\"Enter a chracter: \")\n",
    "\n",
    "print('ASCII value of character is: ', ord(n))"
   ]
  },
  {
   "cell_type": "markdown",
   "metadata": {},
   "source": [
    "Write a  program to add and multiply two binary numbers"
   ]
  },
  {
   "cell_type": "code",
   "execution_count": 1,
   "metadata": {},
   "outputs": [
    {
     "name": "stdout",
     "output_type": "stream",
     "text": [
      "[1, 0, 1, 0]\n",
      "[1, 0, 1, 0]\n",
      "[1, 0, 1, 0, 0]\n"
     ]
    }
   ],
   "source": [
    "# print(bin(8))\n",
    "# print(bin(9))\n",
    "# print(bin(16))\n",
    "add2=[]\n",
    "l1=list(bin(10))\n",
    "l1=list(map(int,l1[2::]))\n",
    "print(l1)\n",
    "l2=list(bin(10))\n",
    "l2=list(map(int,l2[2::]))\n",
    "print(l2)\n",
    "\n",
    "if len(l1)!=len(l2):\n",
    "    if len(l1)>len(l2):\n",
    "        a=len(l1)-len(l2)\n",
    "        for i in range(a):\n",
    "            l2.insert(0,0)\n",
    "#         print(l2)\n",
    "    else:\n",
    "        a=len(l2)-len(l1)\n",
    "        for i in range(a):\n",
    "            l1.insert(0,0)\n",
    "#         print(l1)\n",
    "carr=0       \n",
    "for i in range(1,len(l1)+1):\n",
    "    if l1[-i]==0 and l2[-i]==0 and carr==0:\n",
    "        add2.insert(0,0)\n",
    "        carr=0\n",
    "    elif l1[-i]==0 and l2[-i]==0 and carr==1:\n",
    "        add2.insert(0,1)\n",
    "        carr=0\n",
    "    elif l1[-i]==0 and l2[-i]==1 and carr==0:\n",
    "        add2.insert(0,1)\n",
    "        carr=0\n",
    "    elif l1[-i]==1 and l2[-i]==1 and carr==1:\n",
    "        add2.insert(0,1)\n",
    "        carr=1\n",
    "    elif l1[-i]==1 and l2[-i]==0 and carr==0:\n",
    "        add2.insert(0,1)\n",
    "        carr=0       \n",
    "    elif l1[-i]==1 and l2[-i]==0 and carr==1:\n",
    "        add2.insert(0,0)\n",
    "        carr=1    \n",
    "    elif l1[-i]==1 and l2[-i]==1 and carr==0:\n",
    "        add2.insert(0,0)\n",
    "        carr=1\n",
    "if carr==1:\n",
    "    add2.insert(0,1)\n",
    "print(add2)"
   ]
  },
  {
   "cell_type": "code",
   "execution_count": 2,
   "metadata": {},
   "outputs": [
    {
     "name": "stdout",
     "output_type": "stream",
     "text": [
      "[1, 1, 0, 1, 1]\n",
      "[0, 1, 0, 1, 0]\n",
      "[1, 0, 0, 1, 0, 1]\n"
     ]
    }
   ],
   "source": [
    "add2=[]\n",
    "l1=list(bin(27))\n",
    "l1=list(map(int,l1[2::]))\n",
    "# print(l1)\n",
    "l2=list(bin(10))\n",
    "l2=list(map(int,l2[2::]))\n",
    "# print(l2)\n",
    "\n",
    "if len(l1)!=len(l2):\n",
    "    if len(l1)>len(l2):\n",
    "        a=len(l1)-len(l2)\n",
    "        for i in range(a):\n",
    "            l2.insert(0,0)\n",
    "#         print(l2)\n",
    "    else:\n",
    "        a=len(l2)-len(l1)\n",
    "        for i in range(a):\n",
    "            l1.insert(0,0)\n",
    "#         print(l1)\n",
    "carr=0 \n",
    "print(l1)\n",
    "print(l2)\n",
    "for i,j in zip(l1[::-1],l2[::-1]):\n",
    "    if (i+j+carr)==0:\n",
    "        add2.insert(0,0)\n",
    "        carr=0\n",
    "    elif (i+j+carr)==1:\n",
    "        add2.insert(0,1)\n",
    "        carr=0\n",
    "    elif (i+j+carr)==2:\n",
    "        add2.insert(0,0)\n",
    "        carr=1\n",
    "    elif (i+j+carr)==3:\n",
    "        add2.insert(0,1)\n",
    "        carr=1\n",
    "if carr==1:\n",
    "    add2.insert(0,1)\n",
    "print(add2)"
   ]
  },
  {
   "cell_type": "markdown",
   "metadata": {},
   "source": [
    "WAP to convert decimal no to binary without using builtin methods"
   ]
  },
  {
   "cell_type": "code",
   "execution_count": 5,
   "metadata": {},
   "outputs": [
    {
     "name": "stdout",
     "output_type": "stream",
     "text": [
      "1010"
     ]
    }
   ],
   "source": [
    "def to_bin(n):\n",
    "    if n>1:\n",
    "        to_bin(n//2)\n",
    "    print(n%2,end=\"\")\n",
    "    \n",
    "to_bin(10)"
   ]
  },
  {
   "cell_type": "markdown",
   "metadata": {
    "id": "Bs2mg3CiPu2p"
   },
   "source": [
    "WAP that accepts an integer (n) and computes the value of n + n* n + n * n * n."
   ]
  },
  {
   "cell_type": "code",
   "execution_count": null,
   "metadata": {
    "colab": {
     "base_uri": "https://localhost:8080/"
    },
    "id": "25B27C17P3_Q",
    "outputId": "c8f2124c-2db9-41cf-b0fb-df61cbb16810"
   },
   "outputs": [
    {
     "name": "stdout",
     "output_type": "stream",
     "text": [
      "Enter a number: 3\n",
      "39\n",
      "39\n"
     ]
    }
   ],
   "source": [
    "n=int(input(\"Enter a number: \"))\n",
    "print(n + n* n + n * n * n)\n",
    "# print(n + (n* n) + (n * n * n))\n"
   ]
  },
  {
   "cell_type": "markdown",
   "metadata": {
    "id": "hd-c5Cy2QK3J"
   },
   "source": [
    "WAP to find the size of a specified file."
   ]
  },
  {
   "cell_type": "code",
   "execution_count": null,
   "metadata": {
    "colab": {
     "base_uri": "https://localhost:8080/",
     "height": 349
    },
    "id": "aBjJ1VqFQcB3",
    "outputId": "8c68bc1f-4107-40c5-c6ad-b2f61186f140"
   },
   "outputs": [
    {
     "ename": "FileNotFoundError",
     "evalue": "ignored",
     "output_type": "error",
     "traceback": [
      "\u001b[0;31m---------------------------------------------------------------------------\u001b[0m",
      "\u001b[0;31mFileNotFoundError\u001b[0m                         Traceback (most recent call last)",
      "\u001b[0;32m<ipython-input-45-bd46173bf597>\u001b[0m in \u001b[0;36m<cell line: 3>\u001b[0;34m()\u001b[0m\n\u001b[1;32m      1\u001b[0m \u001b[0;32mimport\u001b[0m \u001b[0mos\u001b[0m\u001b[0;34m\u001b[0m\u001b[0;34m\u001b[0m\u001b[0m\n\u001b[1;32m      2\u001b[0m \u001b[0;34m\u001b[0m\u001b[0m\n\u001b[0;32m----> 3\u001b[0;31m \u001b[0mfile_size\u001b[0m \u001b[0;34m=\u001b[0m \u001b[0mos\u001b[0m\u001b[0;34m.\u001b[0m\u001b[0mpath\u001b[0m\u001b[0;34m.\u001b[0m\u001b[0mgetsize\u001b[0m\u001b[0;34m(\u001b[0m\u001b[0;34m'E:\\Python\\Q1.docx'\u001b[0m\u001b[0;34m)\u001b[0m\u001b[0;34m\u001b[0m\u001b[0;34m\u001b[0m\u001b[0m\n\u001b[0m\u001b[1;32m      4\u001b[0m \u001b[0mprint\u001b[0m\u001b[0;34m(\u001b[0m\u001b[0mfile_size\u001b[0m\u001b[0;34m)\u001b[0m\u001b[0;34m\u001b[0m\u001b[0;34m\u001b[0m\u001b[0m\n",
      "\u001b[0;32m/usr/lib/python3.10/genericpath.py\u001b[0m in \u001b[0;36mgetsize\u001b[0;34m(filename)\u001b[0m\n\u001b[1;32m     48\u001b[0m \u001b[0;32mdef\u001b[0m \u001b[0mgetsize\u001b[0m\u001b[0;34m(\u001b[0m\u001b[0mfilename\u001b[0m\u001b[0;34m)\u001b[0m\u001b[0;34m:\u001b[0m\u001b[0;34m\u001b[0m\u001b[0;34m\u001b[0m\u001b[0m\n\u001b[1;32m     49\u001b[0m     \u001b[0;34m\"\"\"Return the size of a file, reported by os.stat().\"\"\"\u001b[0m\u001b[0;34m\u001b[0m\u001b[0;34m\u001b[0m\u001b[0m\n\u001b[0;32m---> 50\u001b[0;31m     \u001b[0;32mreturn\u001b[0m \u001b[0mos\u001b[0m\u001b[0;34m.\u001b[0m\u001b[0mstat\u001b[0m\u001b[0;34m(\u001b[0m\u001b[0mfilename\u001b[0m\u001b[0;34m)\u001b[0m\u001b[0;34m.\u001b[0m\u001b[0mst_size\u001b[0m\u001b[0;34m\u001b[0m\u001b[0;34m\u001b[0m\u001b[0m\n\u001b[0m\u001b[1;32m     51\u001b[0m \u001b[0;34m\u001b[0m\u001b[0m\n\u001b[1;32m     52\u001b[0m \u001b[0;34m\u001b[0m\u001b[0m\n",
      "\u001b[0;31mFileNotFoundError\u001b[0m: [Errno 2] No such file or directory: 'E:\\\\Python\\\\Q1.docx'"
     ]
    }
   ],
   "source": [
    "import os\n",
    "\n",
    "file_size = os.path.getsize('E:\\Python\\Q1.docx')\n",
    "print(file_size)"
   ]
  },
  {
   "cell_type": "markdown",
   "metadata": {
    "id": "9JabXHT9ROhL"
   },
   "source": [
    "WAP to display the system time."
   ]
  },
  {
   "cell_type": "code",
   "execution_count": null,
   "metadata": {
    "colab": {
     "base_uri": "https://localhost:8080/"
    },
    "id": "9-Yyp27QSqb8",
    "outputId": "ad355795-61b8-4db3-fd25-cf5b871dc71d"
   },
   "outputs": [
    {
     "name": "stdout",
     "output_type": "stream",
     "text": [
      "2023-10-16 16:30:29.432659\n"
     ]
    }
   ],
   "source": [
    "import datetime\n",
    "\n",
    "print(datetime.datetime.now())"
   ]
  },
  {
   "cell_type": "markdown",
   "metadata": {
    "id": "cxrzq3z1sArt"
   },
   "source": [
    "WAP to accepts an integer and count the factors of the number."
   ]
  },
  {
   "cell_type": "code",
   "execution_count": null,
   "metadata": {
    "colab": {
     "base_uri": "https://localhost:8080/"
    },
    "id": "pyfukNhlTAoz",
    "outputId": "32538257-69c2-4e48-daa3-5dd21cc6376d"
   },
   "outputs": [
    {
     "name": "stdout",
     "output_type": "stream",
     "text": [
      "Enter a number: 100\n",
      "Factors of 100 are:  2, 2, 5, 5\n"
     ]
    }
   ],
   "source": [
    "num= int(input(\"Enter a number: \"))\n",
    "n=num\n",
    "l=[]\n",
    "\n",
    "while n!=1:\n",
    "  for i in range(2,n+1):\n",
    "    if n%i==0:\n",
    "      l.append(str(i))\n",
    "      n= n//i\n",
    "      break\n",
    "\n",
    "print(f\"Factors of {num} are: \",\", \".join(l))"
   ]
  },
  {
   "cell_type": "markdown",
   "metadata": {
    "id": "ihOlWkA4sBve"
   },
   "source": [
    "WAP to capitalize the first letter of each word in input sentence."
   ]
  },
  {
   "cell_type": "code",
   "execution_count": null,
   "metadata": {
    "colab": {
     "base_uri": "https://localhost:8080/"
    },
    "id": "Htba8MRawse7",
    "outputId": "3032dc94-d584-4971-d1ff-b22f78bd3856"
   },
   "outputs": [
    {
     "name": "stdout",
     "output_type": "stream",
     "text": [
      "Enter a string: happy new year!\n",
      "Happy New Year! "
     ]
    }
   ],
   "source": [
    "n= input('Enter a string: ').split()\n",
    "\n",
    "for i in n:\n",
    "  print(i.capitalize(), end=' ')"
   ]
  },
  {
   "cell_type": "markdown",
   "metadata": {
    "id": "DY7zpl-mxA5S"
   },
   "source": [
    "WAP to find the penultimate (last but one) word of a sentence."
   ]
  },
  {
   "cell_type": "code",
   "execution_count": null,
   "metadata": {
    "colab": {
     "base_uri": "https://localhost:8080/"
    },
    "id": "pRFbPF4AyUsf",
    "outputId": "bcade0cd-e262-4204-ab4e-b838fb01d9fc"
   },
   "outputs": [
    {
     "name": "stdout",
     "output_type": "stream",
     "text": [
      "Enter a string: Hello everyone, I am the boss.\n",
      "the\n"
     ]
    }
   ],
   "source": [
    "n= input('Enter a string: ').split()\n",
    "\n",
    "print(n[-2])"
   ]
  },
  {
   "cell_type": "markdown",
   "metadata": {
    "id": "CwaSwAXmybcS"
   },
   "source": [
    "WAP to check if input is 4 digit number and less than 3000"
   ]
  },
  {
   "cell_type": "code",
   "execution_count": null,
   "metadata": {
    "colab": {
     "base_uri": "https://localhost:8080/"
    },
    "id": "RykRR_mByoSf",
    "outputId": "1b702b70-ad5a-422b-a2be-cb39e8eec895"
   },
   "outputs": [
    {
     "name": "stdout",
     "output_type": "stream",
     "text": [
      "Enter a string: 234345\n",
      "condition not satisfied\n"
     ]
    }
   ],
   "source": [
    "n= input('Enter a string: ')\n",
    "\n",
    "if int(n)<3000:\n",
    "  print(\"Condition satisfied.\")\n",
    "else:\n",
    "  print(\"condition not satisfied\")\n"
   ]
  },
  {
   "cell_type": "markdown",
   "metadata": {
    "id": "jnsew2Vgyzui"
   },
   "source": [
    "WAP to find second last maximum value\n",
    "\n",
    "WAP to find second last minimum value"
   ]
  },
  {
   "cell_type": "code",
   "execution_count": null,
   "metadata": {
    "colab": {
     "base_uri": "https://localhost:8080/"
    },
    "id": "6qKPOybLz2FN",
    "outputId": "3ddf2e4a-79fa-4637-d2c7-606ef8fabe01"
   },
   "outputs": [
    {
     "name": "stdout",
     "output_type": "stream",
     "text": [
      "Enter a number: 3423,3245,345,354,53\n",
      "Second last max value is : 3245\n",
      "Second last min value is : 345\n"
     ]
    }
   ],
   "source": [
    "n= input(\"Enter a number: \").split(\",\")\n",
    "l=[]\n",
    "for i in n:\n",
    "  l.append(int(i))\n",
    "\n",
    "sorted_list = sorted(l)\n",
    "print(f\"Second last max value is : {sorted_list[-2]}\")\n",
    "print(f\"Second last min value is : {sorted_list[1]}\")\n"
   ]
  },
  {
   "cell_type": "markdown",
   "metadata": {
    "id": "e-F4bP8T0Z7Z"
   },
   "source": [
    "WAP to find number in a list which is repeated exactly 'n' times"
   ]
  },
  {
   "cell_type": "code",
   "execution_count": null,
   "metadata": {
    "colab": {
     "base_uri": "https://localhost:8080/"
    },
    "id": "jmkEMMl72KeC",
    "outputId": "5c09ec0d-359e-4a16-84c0-3eb317dac2ab"
   },
   "outputs": [
    {
     "name": "stdout",
     "output_type": "stream",
     "text": [
      "was : 6\n",
      "a : 6\n",
      "mother : 3\n",
      "and : 3\n",
      "Catholic, : 3\n",
      "because : 3\n",
      "father : 2\n",
      "her : 3\n",
      "Catholic : 4\n"
     ]
    }
   ],
   "source": [
    "string =  \"Nory was a Catholic because her mother was a Catholic, and Nory's mother was a Catholic because her father was a Catholic, and her father was a Catholic because his mother was a Catholic, or had been. Six repetitions in this sentence! Catholic is repeated six times, and by the end, it's actually funny\"\n",
    "l1= string.split()\n",
    "s1=set(l1)\n",
    "dic=dict()\n",
    "# print(l1)\n",
    "for i in s1:\n",
    "  a=l1.count(i)\n",
    "  dic.update({i:a})\n",
    "for ke,val in zip(dic.keys(), dic.values()):\n",
    "  if val>1:\n",
    "    print(ke, val, sep=' : ')"
   ]
  },
  {
   "cell_type": "markdown",
   "metadata": {
    "id": "GDz8yqw92q73"
   },
   "source": [
    "WAP to insert a word in the middle of the another string.\n",
    "    EX. Insert \"Tutorial\" in the middle of \"Python 3.9\", so result will be Python Tutorial 3.9\n"
   ]
  },
  {
   "cell_type": "code",
   "execution_count": null,
   "metadata": {
    "colab": {
     "base_uri": "https://localhost:8080/"
    },
    "id": "zLTMemez2vhP",
    "outputId": "4ca17cca-c94b-4040-a840-e17cda1d4f6c"
   },
   "outputs": [
    {
     "name": "stdout",
     "output_type": "stream",
     "text": [
      "Python Tutorial 3.9\n"
     ]
    }
   ],
   "source": [
    "word1=\"Tutorial\"\n",
    "string=\"Python 3.9\"\n",
    "\n",
    "string=string.split()\n",
    "string.insert((len(string)//2),word1)\n",
    "print(' '.join(string))"
   ]
  },
  {
   "cell_type": "markdown",
   "metadata": {
    "id": "wy7mqKGg4rOh"
   },
   "source": [
    "WAP to extract the first half of a given string"
   ]
  },
  {
   "cell_type": "code",
   "execution_count": null,
   "metadata": {
    "colab": {
     "base_uri": "https://localhost:8080/"
    },
    "id": "m_7JpCm15rcf",
    "outputId": "bbd91912-f840-435d-a369-72dd19439d9b"
   },
   "outputs": [
    {
     "name": "stdout",
     "output_type": "stream",
     "text": [
      "Enter a string: one of the super hero is harry potter\n",
      "one of the super h\n"
     ]
    }
   ],
   "source": [
    "srt = input(\"Enter a string: \")\n",
    "print(srt[:len(srt)//2])"
   ]
  },
  {
   "cell_type": "markdown",
   "metadata": {
    "id": "9DFJfaLH7Og2"
   },
   "source": [
    "WAP to create a new string taking first three characters from a given string. If the length of the given string is less than 3 use \"#\" as substitute characters"
   ]
  },
  {
   "cell_type": "code",
   "execution_count": null,
   "metadata": {
    "colab": {
     "base_uri": "https://localhost:8080/"
    },
    "id": "LYohW1b-2qAe",
    "outputId": "4c91c1a4-c5e0-4286-ce35-4271d856afca"
   },
   "outputs": [
    {
     "name": "stdout",
     "output_type": "stream",
     "text": [
      "ga#\n"
     ]
    }
   ],
   "source": [
    "n= 'ganesh'\n",
    "\n",
    "a=n[:2]\n",
    "\n",
    "if len(a)<3:\n",
    "  for i in range(3):\n",
    "    a+='#'\n",
    "    if len(a)==3:\n",
    "      break\n",
    "\n",
    "print(a)"
   ]
  },
  {
   "cell_type": "code",
   "execution_count": null,
   "metadata": {
    "colab": {
     "base_uri": "https://localhost:8080/"
    },
    "id": "PV8siELg2Fuw",
    "outputId": "695a7b8f-815e-45a8-f718-5a2a220dd9d6"
   },
   "outputs": [
    {
     "name": "stdout",
     "output_type": "stream",
     "text": [
      "G##\n"
     ]
    }
   ],
   "source": [
    "srt = 'G'\n",
    "srt= srt[:3]\n",
    "\n",
    "if len(srt)>3:\n",
    "  print(srt)\n",
    "else:\n",
    "  for i in range(3-len(srt)):\n",
    "    srt+='#'\n",
    "  print(srt)\n"
   ]
  },
  {
   "cell_type": "markdown",
   "metadata": {
    "id": "tjdrCbln3Lbk"
   },
   "source": [
    "WAP to take file name with any extension as input. Print name and extension of the file name seperately.\n",
    "    ex. my_photo.png    --> name : my_photo ext: png\n",
    "        myfile.docx     --> name: myfile  ext: docx\n",
    "        1.gz            --> name: 1  ext:gz"
   ]
  },
  {
   "cell_type": "code",
   "execution_count": null,
   "metadata": {
    "id": "Mhlc4Byf4mIb"
   },
   "outputs": [],
   "source": []
  },
  {
   "cell_type": "markdown",
   "metadata": {
    "id": "onWUOnK74bKs"
   },
   "source": [
    "WAP to check if a string starts with a specified word.\n",
    "Sample Data: string1 = \"Hello how are you?\"\n",
    "word = \"Hello\"\n",
    "Sample Output: True"
   ]
  },
  {
   "cell_type": "code",
   "execution_count": null,
   "metadata": {
    "colab": {
     "base_uri": "https://localhost:8080/"
    },
    "id": "sQ3TPbeG4nkw",
    "outputId": "0c49b274-b2a8-481a-8f03-e5a742e56f35"
   },
   "outputs": [
    {
     "data": {
      "text/plain": [
       "False"
      ]
     },
     "execution_count": 10,
     "metadata": {},
     "output_type": "execute_result"
    }
   ],
   "source": [
    "def word_chk(string,word):\n",
    "  string=(string).split()\n",
    "\n",
    "  if string[0]==word:\n",
    "    return True\n",
    "  else:\n",
    "    return False\n",
    "\n",
    "\n",
    "word_chk('Hello how are you?','Hello')"
   ]
  },
  {
   "cell_type": "markdown",
   "metadata": {
    "id": "L6IRIPCv4fsC"
   },
   "source": [
    "\n",
    "WAP to sort array of strings based on alphabetical order of second character of each string. Assume all strings are minimum 2 character long\n",
    "\n"
   ]
  },
  {
   "cell_type": "code",
   "execution_count": null,
   "metadata": {
    "colab": {
     "base_uri": "https://localhost:8080/"
    },
    "id": "6-iLWfe74odu",
    "outputId": "3df51f5d-6eba-418b-af48-000299ad08f3"
   },
   "outputs": [
    {
     "name": "stdout",
     "output_type": "stream",
     "text": [
      "['hardik', 'virat', 'sky', 'rohit', 'ishan']\n"
     ]
    }
   ],
   "source": [
    "l=['rohit','hardik','virat','ishan','sky']\n",
    "a=sorted(l,key=lambda x:x[1])\n",
    "\n",
    "print(a)"
   ]
  },
  {
   "cell_type": "markdown",
   "metadata": {
    "id": "2rOCn_pZ4ka8"
   },
   "source": [
    "WAP to find all strings in an array of strings which end with \"g\" or start with \"p\""
   ]
  },
  {
   "cell_type": "code",
   "execution_count": null,
   "metadata": {
    "colab": {
     "base_uri": "https://localhost:8080/"
    },
    "id": "Qqx7uMFk7caX",
    "outputId": "c65ba7e9-75a5-48ac-e77b-15a8bef97da9"
   },
   "outputs": [
    {
     "name": "stdout",
     "output_type": "stream",
     "text": [
      "phardikg\n"
     ]
    }
   ],
   "source": [
    "l=['rohit','phardikg','virat','ishan','sky']\n",
    "\n",
    "for i in l:\n",
    "  if ((i[0].upper())=='P') and ((i[-1].upper())==\"G\"):\n",
    "    print (i)"
   ]
  },
  {
   "cell_type": "markdown",
   "metadata": {
    "id": "LI84vtFk7UEG"
   },
   "source": [
    "WAP  start with an input integer n, divide n by 2 if n is even or multiply by 3 and add 1 if n is odd, repeat the process until n = 1."
   ]
  },
  {
   "cell_type": "code",
   "execution_count": null,
   "metadata": {
    "colab": {
     "base_uri": "https://localhost:8080/"
    },
    "id": "7i17w-PY7dJM",
    "outputId": "e5aadad7-e55d-4527-8ed2-5a112dda2a32"
   },
   "outputs": [
    {
     "name": "stdout",
     "output_type": "stream",
     "text": [
      "370\n",
      "185.0\n",
      "556.0\n",
      "278.0\n",
      "139.0\n",
      "418.0\n",
      "209.0\n",
      "628.0\n",
      "314.0\n",
      "157.0\n",
      "472.0\n",
      "236.0\n",
      "118.0\n",
      "59.0\n",
      "178.0\n",
      "89.0\n",
      "268.0\n",
      "134.0\n",
      "67.0\n",
      "202.0\n",
      "101.0\n",
      "304.0\n",
      "152.0\n",
      "76.0\n",
      "38.0\n",
      "19.0\n",
      "58.0\n",
      "29.0\n",
      "88.0\n",
      "44.0\n",
      "22.0\n",
      "11.0\n",
      "34.0\n",
      "17.0\n",
      "52.0\n",
      "26.0\n",
      "13.0\n",
      "40.0\n",
      "20.0\n",
      "10.0\n",
      "5.0\n",
      "16.0\n",
      "8.0\n",
      "4.0\n",
      "2.0\n",
      "1.0\n"
     ]
    }
   ],
   "source": [
    "n= 123\n",
    "\n",
    "while n!=1:\n",
    "  if (n%2)==0:\n",
    "    n/=2\n",
    "    print(n)\n",
    "  else:\n",
    "    n=(n*3)+1\n",
    "    print(n)\n"
   ]
  },
  {
   "cell_type": "markdown",
   "metadata": {
    "id": "IXbZDEPH7WYs"
   },
   "source": [
    "WAP to test if 10 appears as either the first or last element of an array of integers. The length of the array must be greater than or equal to 2."
   ]
  },
  {
   "cell_type": "code",
   "execution_count": null,
   "metadata": {
    "colab": {
     "base_uri": "https://localhost:8080/"
    },
    "id": "NgKFYWwa7d2v",
    "outputId": "d249c0f1-6d0c-446f-8f11-88dbb91afa6f"
   },
   "outputs": [
    {
     "name": "stdout",
     "output_type": "stream",
     "text": [
      "10 appear as first or last integer of an array\n"
     ]
    }
   ],
   "source": [
    "n=[10,654,64,6,47,787,8479,79,797,79]\n",
    "\n",
    "if (n[0]==10) or (n[-1]==10):\n",
    "  print('10 appear as first or last integer of an array')\n",
    "else:\n",
    "  print('10 is not appearing as first or last integer of an array')"
   ]
  }
 ],
 "metadata": {
  "colab": {
   "provenance": []
  },
  "kernelspec": {
   "display_name": "Python 3 (ipykernel)",
   "language": "python",
   "name": "python3"
  },
  "language_info": {
   "codemirror_mode": {
    "name": "ipython",
    "version": 3
   },
   "file_extension": ".py",
   "mimetype": "text/x-python",
   "name": "python",
   "nbconvert_exporter": "python",
   "pygments_lexer": "ipython3",
   "version": "3.11.4"
  }
 },
 "nbformat": 4,
 "nbformat_minor": 1
}
