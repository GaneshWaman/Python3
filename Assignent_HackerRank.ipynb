{
  "nbformat": 4,
  "nbformat_minor": 0,
  "metadata": {
    "colab": {
      "provenance": [],
      "authorship_tag": "ABX9TyNcZYock+IKBnq6oofoeOvF",
      "include_colab_link": true
    },
    "kernelspec": {
      "name": "python3",
      "display_name": "Python 3"
    },
    "language_info": {
      "name": "python"
    }
  },
  "cells": [
    {
      "cell_type": "markdown",
      "metadata": {
        "id": "view-in-github",
        "colab_type": "text"
      },
      "source": [
        "<a href=\"https://colab.research.google.com/github/GaneshWaman/Python3/blob/main/Assignent_HackerRank.ipynb\" target=\"_parent\"><img src=\"https://colab.research.google.com/assets/colab-badge.svg\" alt=\"Open In Colab\"/></a>"
      ]
    },
    {
      "cell_type": "markdown",
      "source": [
        "Network Stream\n",
        "\n",
        "Problem Statement – A stream of n data packets arrives at a server. This server can only process packets that are exactly 2^n units long for some non-negative integer value of n (0<=n).\n",
        "\n",
        "All packets are repackaged in order to the 1 largest possible value of 2^n units. The remaining portion of the packet is added to the next arriving packet before it is repackaged. Find the size of the largest repackaged packet in the given stream.\n",
        "\n",
        "Example :\n",
        "\n",
        "    arriving Packets = [12, 25, 10, 7, 8]\n",
        "    The first packet has 12 units. The maximum value of 2^n that can be made has 2^n = 2^3 = 8 units because the next size up is 2^n = 2^4 = 16 (16 is greater than 12).\n",
        "    12 – 8 = 4 units are added to the next packet. There are 4 + 25 = 29 units to repackage, 2^n = 2^4 = 16 is the new size leaving 9 units (29-16 = 9)\n",
        "    Next packet is 9 + 10 = 29 unists & the maximum units(in 2^n) is 16 leaving 3 units.\n",
        "    3 + 7 = 10 , the max units is 8 Leaving 2 units, and so on.\n",
        "    The maximum repackaged size is 16 units.\n",
        "\n",
        "Returns:\n",
        "\n",
        "    Long : the size of the largest packet that is streamed\n",
        "\n",
        "Constraints :\n",
        "\n",
        "    1<=n<=10^5\n",
        "    1<=arriving Packets[i] size<=10^9\n",
        "\n",
        "Sample case :\n",
        "\n",
        "Sample input :\n",
        "5 → number of packets=5\n",
        "12 → size of packets=[13,25,12,2,8]\n",
        "25\n",
        "10\n",
        "2\n",
        "8\n",
        "Sample output :\n",
        "16"
      ],
      "metadata": {
        "id": "czDonWB_pIXB"
      }
    },
    {
      "cell_type": "markdown",
      "source": [
        "ap = [12, 25, 10, 7, 8]\n",
        "carr = 0\n",
        "p1 = list()\n",
        "for i in ap:\n",
        "  i=i+carr\n",
        "  n=1\n",
        "  while(i>(2**n)):\n",
        "    n = n+1\n",
        "    if (i<(2**(n))):\n",
        "      p1.append(2**(n-1))\n",
        "      carr = (2**n)-i\n",
        "\n",
        "print(max(p1))"
      ],
      "metadata": {
        "id": "1248rue5LMlV"
      }
    },
    {
      "cell_type": "code",
      "source": [
        "ap = [12, 25, 10, 7, 8]\n",
        "carr = 0\n",
        "p1 = list()\n",
        "for i in ap:\n",
        "  i=i+carr\n",
        "  n=1\n",
        "  while(i>(2**n)):\n",
        "    n = n+1\n",
        "    if (i<(2**(n))):\n",
        "      p1.append(2**(n-1))\n",
        "      carr = (2**n)-i\n",
        "\n",
        "print(max(p1))"
      ],
      "metadata": {
        "colab": {
          "base_uri": "https://localhost:8080/"
        },
        "id": "gsZvcuffZgn_",
        "outputId": "52daeef2-c661-4631-ed15-bb973a94340e"
      },
      "execution_count": 17,
      "outputs": [
        {
          "output_type": "stream",
          "name": "stdout",
          "text": [
            "16\n"
          ]
        }
      ]
    },
    {
      "cell_type": "code",
      "source": [
        "# PreparePythonBasic Data TypesFinding the percentage\n",
        "marks = {'Krishna': [67.0, 68.0, 69.0], 'Arjun': [70.0, 98.0, 63.0], 'Malika': [52.0, 56.0, 60.0]}\n",
        "\n",
        "m = marks.get('Malika')\n",
        "sum=0\n",
        "for i in m:\n",
        "    sum = sum+i\n",
        "\n",
        "avg = round(sum/len(m),2)\n",
        "print(format(avg, \".2f\"))"
      ],
      "metadata": {
        "colab": {
          "base_uri": "https://localhost:8080/"
        },
        "id": "0dtxqHGQZihM",
        "outputId": "d84586f8-62b7-4892-be22-7c417c8ade0a"
      },
      "execution_count": 26,
      "outputs": [
        {
          "output_type": "stream",
          "name": "stdout",
          "text": [
            "56.00\n"
          ]
        }
      ]
    }
  ]
}