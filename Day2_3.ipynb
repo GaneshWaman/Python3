{
 "cells": [
  {
   "cell_type": "code",
   "execution_count": 1,
   "id": "0baa94c4",
   "metadata": {},
   "outputs": [
    {
     "name": "stdout",
     "output_type": "stream",
     "text": [
      "Enter your nameshantanu\n"
     ]
    }
   ],
   "source": [
    "name = input(\"Enter your name\")"
   ]
  },
  {
   "cell_type": "code",
   "execution_count": 2,
   "id": "cc0fa5ad",
   "metadata": {},
   "outputs": [
    {
     "name": "stdout",
     "output_type": "stream",
     "text": [
      "shantanu\n"
     ]
    }
   ],
   "source": [
    "print(name)"
   ]
  },
  {
   "cell_type": "code",
   "execution_count": 4,
   "id": "d5812e3c",
   "metadata": {},
   "outputs": [
    {
     "name": "stdout",
     "output_type": "stream",
     "text": [
      "First message\n",
      "Second message\n"
     ]
    }
   ],
   "source": [
    "print(\"First message\")\n",
    "print(\"Second message\")"
   ]
  },
  {
   "cell_type": "code",
   "execution_count": 5,
   "id": "859dd64b",
   "metadata": {},
   "outputs": [
    {
     "name": "stdout",
     "output_type": "stream",
     "text": [
      "First message Second message\n"
     ]
    }
   ],
   "source": [
    "print(\"First message\",end=\" \")\n",
    "print(\"Second message\")"
   ]
  },
  {
   "cell_type": "code",
   "execution_count": 6,
   "id": "03b44132",
   "metadata": {},
   "outputs": [],
   "source": [
    "i=10_34\n"
   ]
  },
  {
   "cell_type": "code",
   "execution_count": 8,
   "id": "6cf50fb3",
   "metadata": {},
   "outputs": [
    {
     "name": "stdout",
     "output_type": "stream",
     "text": [
      "1e-308\n"
     ]
    }
   ],
   "source": [
    "i=10 ** -308\n",
    "print(i)"
   ]
  },
  {
   "cell_type": "code",
   "execution_count": 14,
   "id": "1e09f09b",
   "metadata": {},
   "outputs": [
    {
     "ename": "OverflowError",
     "evalue": "int too large to convert to float",
     "output_type": "error",
     "traceback": [
      "\u001b[1;31m---------------------------------------------------------------------------\u001b[0m",
      "\u001b[1;31mOverflowError\u001b[0m                             Traceback (most recent call last)",
      "Cell \u001b[1;32mIn[14], line 1\u001b[0m\n\u001b[1;32m----> 1\u001b[0m i\u001b[38;5;241m=\u001b[39m\u001b[38;5;241m1.0\u001b[39m \u001b[38;5;241m*\u001b[39m \u001b[38;5;241m10\u001b[39m \u001b[38;5;241m*\u001b[39m\u001b[38;5;241m*\u001b[39m \u001b[38;5;241m+\u001b[39m\u001b[38;5;241m400\u001b[39m\n\u001b[0;32m      2\u001b[0m \u001b[38;5;28mprint\u001b[39m(i)\n",
      "\u001b[1;31mOverflowError\u001b[0m: int too large to convert to float"
     ]
    }
   ],
   "source": [
    "i=1.0 * 10 ** +400\n",
    "print(i)"
   ]
  },
  {
   "cell_type": "code",
   "execution_count": 15,
   "id": "639ff727",
   "metadata": {},
   "outputs": [],
   "source": [
    "inst = \"IACSD\""
   ]
  },
  {
   "cell_type": "code",
   "execution_count": 16,
   "id": "6300adcb",
   "metadata": {},
   "outputs": [],
   "source": [
    "paragraph = \"\"\"I am here in pune.\n",
    "There is a festival \n",
    "We are practicing python\n",
    "\"\"\""
   ]
  },
  {
   "cell_type": "code",
   "execution_count": 17,
   "id": "356a7dc6",
   "metadata": {},
   "outputs": [
    {
     "name": "stdout",
     "output_type": "stream",
     "text": [
      "I am here in pune.\n",
      "There is a festival \n",
      "We are practicing python\n",
      "\n"
     ]
    }
   ],
   "source": [
    "print(paragraph)"
   ]
  },
  {
   "cell_type": "code",
   "execution_count": 20,
   "id": "746bbcf9",
   "metadata": {},
   "outputs": [],
   "source": [
    "name = \"IACSD \\n Pune\""
   ]
  },
  {
   "cell_type": "code",
   "execution_count": 21,
   "id": "89cb725f",
   "metadata": {},
   "outputs": [
    {
     "name": "stdout",
     "output_type": "stream",
     "text": [
      "IACSD \n",
      " Pune\n"
     ]
    }
   ],
   "source": [
    "print(name)"
   ]
  },
  {
   "cell_type": "code",
   "execution_count": 23,
   "id": "98f879f2",
   "metadata": {},
   "outputs": [
    {
     "name": "stdout",
     "output_type": "stream",
     "text": [
      "10\n",
      "pune\n",
      "99.99\n"
     ]
    }
   ],
   "source": [
    "var1 : int =10\n",
    "print(var1)\n",
    "var1=\"pune\"\n",
    "print(var1)\n",
    "var1=99.99\n",
    "print(var1)"
   ]
  },
  {
   "cell_type": "code",
   "execution_count": 25,
   "id": "c5dca3aa",
   "metadata": {},
   "outputs": [
    {
     "data": {
      "text/plain": [
       "2021554128144"
      ]
     },
     "execution_count": 25,
     "metadata": {},
     "output_type": "execute_result"
    }
   ],
   "source": [
    "id(var1)"
   ]
  },
  {
   "cell_type": "code",
   "execution_count": 24,
   "id": "035df2fd",
   "metadata": {},
   "outputs": [
    {
     "ename": "NameError",
     "evalue": "name 'j' is not defined",
     "output_type": "error",
     "traceback": [
      "\u001b[1;31m---------------------------------------------------------------------------\u001b[0m",
      "\u001b[1;31mNameError\u001b[0m                                 Traceback (most recent call last)",
      "Cell \u001b[1;32mIn[24], line 1\u001b[0m\n\u001b[1;32m----> 1\u001b[0m \u001b[38;5;28mprint\u001b[39m(j)\n",
      "\u001b[1;31mNameError\u001b[0m: name 'j' is not defined"
     ]
    }
   ],
   "source": [
    "print(j)"
   ]
  },
  {
   "cell_type": "code",
   "execution_count": 26,
   "id": "c7c847b7",
   "metadata": {},
   "outputs": [
    {
     "data": {
      "text/plain": [
       "2.0"
      ]
     },
     "execution_count": 26,
     "metadata": {},
     "output_type": "execute_result"
    }
   ],
   "source": [
    "4 ** 0.5"
   ]
  },
  {
   "cell_type": "code",
   "execution_count": 28,
   "id": "7fdc5637",
   "metadata": {},
   "outputs": [
    {
     "data": {
      "text/plain": [
       "1.5874010519681994"
      ]
     },
     "execution_count": 28,
     "metadata": {},
     "output_type": "execute_result"
    }
   ],
   "source": [
    "4 ** (1/3)"
   ]
  },
  {
   "cell_type": "code",
   "execution_count": 29,
   "id": "f1aeb87e",
   "metadata": {},
   "outputs": [
    {
     "name": "stdout",
     "output_type": "stream",
     "text": [
      "True\n"
     ]
    }
   ],
   "source": [
    "var1 = 10\n",
    "var2 = var1\n",
    "print(var2 is var1)"
   ]
  },
  {
   "cell_type": "code",
   "execution_count": 30,
   "id": "eedcda0d",
   "metadata": {},
   "outputs": [
    {
     "data": {
      "text/plain": [
       "200"
      ]
     },
     "execution_count": 30,
     "metadata": {},
     "output_type": "execute_result"
    }
   ],
   "source": [
    "200  if var1 == 10  else 400 "
   ]
  },
  {
   "cell_type": "code",
   "execution_count": 31,
   "id": "0e5d947a",
   "metadata": {},
   "outputs": [
    {
     "data": {
      "text/plain": [
       "512"
      ]
     },
     "execution_count": 31,
     "metadata": {},
     "output_type": "execute_result"
    }
   ],
   "source": [
    "2 ** 3 ** 2"
   ]
  },
  {
   "cell_type": "code",
   "execution_count": 39,
   "id": "3769d956",
   "metadata": {},
   "outputs": [
    {
     "ename": "SyntaxError",
     "evalue": "invalid syntax (2071191300.py, line 1)",
     "output_type": "error",
     "traceback": [
      "\u001b[1;36m  Cell \u001b[1;32mIn[39], line 1\u001b[1;36m\u001b[0m\n\u001b[1;33m    t:=10-4*100\u001b[0m\n\u001b[1;37m     ^\u001b[0m\n\u001b[1;31mSyntaxError\u001b[0m\u001b[1;31m:\u001b[0m invalid syntax\n"
     ]
    }
   ],
   "source": [
    "t:=10-4*100"
   ]
  },
  {
   "cell_type": "code",
   "execution_count": 37,
   "id": "64001dcc",
   "metadata": {},
   "outputs": [
    {
     "name": "stdout",
     "output_type": "stream",
     "text": [
      "6\n"
     ]
    }
   ],
   "source": [
    "print(t)"
   ]
  },
  {
   "cell_type": "code",
   "execution_count": 44,
   "id": "2f5fb86a",
   "metadata": {},
   "outputs": [
    {
     "name": "stdout",
     "output_type": "stream",
     "text": [
      "-50\n"
     ]
    }
   ],
   "source": [
    "x=-50\n",
    "y=False\n",
    "print(x or y)"
   ]
  },
  {
   "cell_type": "code",
   "execution_count": 47,
   "id": "48983ef1",
   "metadata": {},
   "outputs": [
    {
     "name": "stdout",
     "output_type": "stream",
     "text": [
      "True False True\n"
     ]
    }
   ],
   "source": [
    "a=0\n",
    "b=10\n",
    "print(not a == b, (not a) == b, not(a == b) )"
   ]
  },
  {
   "cell_type": "code",
   "execution_count": 49,
   "id": "35253d2f",
   "metadata": {},
   "outputs": [
    {
     "data": {
      "text/plain": [
       "False"
      ]
     },
     "execution_count": 49,
     "metadata": {},
     "output_type": "execute_result"
    }
   ],
   "source": [
    "0.1 + 0.1 + 0.1 == 0.3"
   ]
  },
  {
   "cell_type": "markdown",
   "id": "662e4e17",
   "metadata": {},
   "source": [
    "# if else\n",
    "if else is very simple in python\n",
    "\n",
    "\n"
   ]
  },
  {
   "cell_type": "markdown",
   "id": "8a6770d8",
   "metadata": {},
   "source": [
    "WAP to check if given number is less than 100.\n",
    "If less than 100 then print less\n",
    "if between 101 to 200 then print between\n",
    "if greater than equal to 201 then print more"
   ]
  },
  {
   "cell_type": "code",
   "execution_count": 52,
   "id": "4b86e60a",
   "metadata": {},
   "outputs": [],
   "source": [
    "num=150"
   ]
  },
  {
   "cell_type": "code",
   "execution_count": 54,
   "id": "ee142891",
   "metadata": {},
   "outputs": [
    {
     "name": "stdout",
     "output_type": "stream",
     "text": [
      "between\n"
     ]
    }
   ],
   "source": [
    "if num < 100:\n",
    "    print(\"less\")\n",
    "elif 101 <= num <= 200:\n",
    "    print(\"between\")\n",
    "else:\n",
    "    print(\"more\")\n",
    "    "
   ]
  },
  {
   "cell_type": "code",
   "execution_count": 59,
   "id": "81b7bcbc",
   "metadata": {},
   "outputs": [],
   "source": [
    "# Assign a platinum card if income is greater 50K\n",
    "# Else assign a Gold card\n",
    "income = 30000\n",
    "card = \"Platinum\" if income > 50000 else (\"Gold\" if income > 40000 else \"Silver\")"
   ]
  },
  {
   "cell_type": "code",
   "execution_count": 60,
   "id": "35e998ea",
   "metadata": {},
   "outputs": [
    {
     "name": "stdout",
     "output_type": "stream",
     "text": [
      "Silver\n"
     ]
    }
   ],
   "source": [
    "print(card)"
   ]
  },
  {
   "cell_type": "markdown",
   "id": "f25f165c",
   "metadata": {},
   "source": [
    "WAP for checking whether prime or not"
   ]
  },
  {
   "cell_type": "code",
   "execution_count": 71,
   "id": "9d95a872",
   "metadata": {},
   "outputs": [],
   "source": [
    "no=15"
   ]
  },
  {
   "cell_type": "code",
   "execution_count": 73,
   "id": "6941a790",
   "metadata": {},
   "outputs": [
    {
     "name": "stdout",
     "output_type": "stream",
     "text": [
      "Not prime\n"
     ]
    }
   ],
   "source": [
    "num=2\n",
    "while num < no: # 2 < 15  --> True\n",
    "    if no % num == 0: # 15 % 2 --> 1 --> False\n",
    "        print(\"Not prime\")\n",
    "        break\n",
    "    num = num +1\n",
    "else:\n",
    "    print(\"Prime\")\n",
    "    "
   ]
  },
  {
   "cell_type": "code",
   "execution_count": 74,
   "id": "94d3f492",
   "metadata": {},
   "outputs": [
    {
     "name": "stdout",
     "output_type": "stream",
     "text": [
      "Not prime\n"
     ]
    }
   ],
   "source": [
    "import math\n",
    "num=2\n",
    "while num <= math.sqrt(no): # 2 < 15  --> True\n",
    "    if no % num == 0: # 15 % 2 --> 1 --> False\n",
    "        print(\"Not prime\")\n",
    "        break\n",
    "    num = num +1\n",
    "else:\n",
    "    print(\"Prime\")"
   ]
  },
  {
   "cell_type": "code",
   "execution_count": 75,
   "id": "9d3683b4",
   "metadata": {},
   "outputs": [
    {
     "name": "stdout",
     "output_type": "stream",
     "text": [
      "Not prime\n"
     ]
    }
   ],
   "source": [
    "import math\n",
    "if no < 2:\n",
    "    print(\"Invalid input\")\n",
    "if no ==2:\n",
    "    print(\"Prime\")\n",
    "num=3\n",
    "while num <= math.sqrt(no): # 2 < 15  --> True\n",
    "    if no % num == 0: # 15 % 2 --> 1 --> False\n",
    "        print(\"Not prime\")\n",
    "        break\n",
    "    num = num +2\n",
    "else:\n",
    "    print(\"Prime\")"
   ]
  },
  {
   "cell_type": "code",
   "execution_count": 77,
   "id": "2663f697",
   "metadata": {},
   "outputs": [],
   "source": [
    "no = 11"
   ]
  },
  {
   "cell_type": "code",
   "execution_count": 78,
   "id": "ece3a604",
   "metadata": {},
   "outputs": [
    {
     "name": "stdout",
     "output_type": "stream",
     "text": [
      "Prime\n"
     ]
    }
   ],
   "source": [
    "for num in range(no):\n",
    "    if num > 1:\n",
    "        if no % num ==0:\n",
    "            print(\"Not prime\")\n",
    "            break\n",
    "else:\n",
    "    print(\"Prime\")"
   ]
  },
  {
   "cell_type": "code",
   "execution_count": 79,
   "id": "64c5be7f",
   "metadata": {},
   "outputs": [
    {
     "name": "stdout",
     "output_type": "stream",
     "text": [
      "Prime\n"
     ]
    }
   ],
   "source": [
    "for num in range(2,no):\n",
    "    if no % num ==0:\n",
    "        print(\"Not prime\")\n",
    "        break\n",
    "else:\n",
    "    print(\"Prime\")"
   ]
  },
  {
   "cell_type": "code",
   "execution_count": null,
   "id": "1f66d6db",
   "metadata": {},
   "outputs": [],
   "source": []
  }
 ],
 "metadata": {
  "kernelspec": {
   "display_name": "Python 3 (ipykernel)",
   "language": "python",
   "name": "python3"
  },
  "language_info": {
   "codemirror_mode": {
    "name": "ipython",
    "version": 3
   },
   "file_extension": ".py",
   "mimetype": "text/x-python",
   "name": "python",
   "nbconvert_exporter": "python",
   "pygments_lexer": "ipython3",
   "version": "3.11.4"
  }
 },
 "nbformat": 4,
 "nbformat_minor": 5
}
